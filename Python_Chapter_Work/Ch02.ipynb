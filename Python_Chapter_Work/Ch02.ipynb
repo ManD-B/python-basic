{
 "cells": [
  {
   "cell_type": "markdown",
   "metadata": {},
   "source": [
    "# Chapter 02. 파이썬의 기본 문법"
   ]
  },
  {
   "cell_type": "code",
   "execution_count": 13,
   "metadata": {},
   "outputs": [
    {
     "name": "stdout",
     "output_type": "stream",
     "text": [
      "50\n"
     ]
    }
   ],
   "source": [
    "# ex 2-1\n",
    "a = 20 \n",
    "b = 30\n",
    "c = a+b\n",
    "print(c)"
   ]
  },
  {
   "cell_type": "code",
   "execution_count": 8,
   "metadata": {},
   "outputs": [
    {
     "name": "stdout",
     "output_type": "stream",
     "text": [
      "20 Mac 30 70 홍길동 1997 20.3\n"
     ]
    }
   ],
   "source": [
    "# ex 2-2\n",
    "x = 20\n",
    "Computer = 'Mac'\n",
    "Age = 30\n",
    "my_score = 70\n",
    "_name = '홍길동'\n",
    "my_birth_year = 1997\n",
    "data2 = 20.3\n",
    "\n",
    "print(x, Computer, Age, my_score, _name, my_birth_year, data2)"
   ]
  },
  {
   "cell_type": "code",
   "execution_count": 45,
   "metadata": {},
   "outputs": [
    {
     "ename": "SyntaxError",
     "evalue": "invalid syntax (<ipython-input-45-6b7d6910766a>, line 2)",
     "output_type": "error",
     "traceback": [
      "\u001b[1;36m  File \u001b[1;32m\"<ipython-input-45-6b7d6910766a>\"\u001b[1;36m, line \u001b[1;32m2\u001b[0m\n\u001b[1;33m    eng score = 90\u001b[0m\n\u001b[1;37m            ^\u001b[0m\n\u001b[1;31mSyntaxError\u001b[0m\u001b[1;31m:\u001b[0m invalid syntax\n"
     ]
    }
   ],
   "source": [
    "# ex 2-3\n",
    "eng score = 90\n",
    "7font = '굴림'\n",
    "my-age = 20\n",
    "percent% = 100\n",
    "animal# = '사슴'"
   ]
  },
  {
   "cell_type": "code",
   "execution_count": 9,
   "metadata": {},
   "outputs": [
    {
     "name": "stdout",
     "output_type": "stream",
     "text": [
      "30\n",
      "<class 'int'>\n"
     ]
    }
   ],
   "source": [
    "# ex 2-4\n",
    "x = 30\n",
    "print(x)\n",
    "print(type(x))"
   ]
  },
  {
   "cell_type": "code",
   "execution_count": 10,
   "metadata": {},
   "outputs": [
    {
     "name": "stdout",
     "output_type": "stream",
     "text": [
      "3.3764 3.0\n",
      "<class 'float'> <class 'float'>\n"
     ]
    }
   ],
   "source": [
    "# ex 2-5\n",
    "x = 3.3764\n",
    "y = 6/2\n",
    "print(x, y)\n",
    "print(type(x), type(y))"
   ]
  },
  {
   "cell_type": "code",
   "execution_count": 12,
   "metadata": {},
   "outputs": [
    {
     "name": "stdout",
     "output_type": "stream",
     "text": [
      "x\n",
      "I am ok\n",
      "안녕하세요\n",
      "<class 'str'>\n"
     ]
    }
   ],
   "source": [
    "# ex 2-6\n",
    "a = 'x'\n",
    "b = 'I am ok'\n",
    "c = \"안녕하세요\"\n",
    "\n",
    "print(a)\n",
    "print(b)\n",
    "print(c)\n",
    "print(type(c))"
   ]
  },
  {
   "cell_type": "code",
   "execution_count": 15,
   "metadata": {},
   "outputs": [
    {
     "name": "stdout",
     "output_type": "stream",
     "text": [
      "30\n",
      "<class 'int'>\n",
      "30\n",
      "<class 'str'>\n"
     ]
    }
   ],
   "source": [
    "# ex 2-7\n",
    "a = 30             # 0001 1110\n",
    "print(a)\n",
    "print(type(a))\n",
    "\n",
    "b = '30'           # ASCII code (0x30), Human interaction\n",
    "print(b)\n",
    "print(type(b))"
   ]
  },
  {
   "cell_type": "code",
   "execution_count": 17,
   "metadata": {},
   "outputs": [
    {
     "name": "stdout",
     "output_type": "stream",
     "text": [
      "I am happy!\n",
      "I\n",
      "I a\n",
      "happy!\n",
      "!\n",
      "py!\n",
      "pp\n"
     ]
    }
   ],
   "source": [
    "# ex 2-8\n",
    "x = 'I am happy!'\n",
    "\n",
    "print(x)\n",
    "print(x[0])\n",
    "print(x[0:3])\n",
    "print(x[5:])\n",
    "print(x[-1])\n",
    "print(x[-3:])\n",
    "print(x[-4:-2])"
   ]
  },
  {
   "cell_type": "code",
   "execution_count": 22,
   "metadata": {},
   "outputs": [
    {
     "name": "stdout",
     "output_type": "stream",
     "text": [
      "나는\n",
      "행복합니다\n",
      "행복\n"
     ]
    }
   ],
   "source": [
    "y = '나는 행복합니다.'\n",
    "print(y[:2])\n",
    "print(y[3:-1])\n",
    "start = 3\n",
    "print(y[start:start+2])"
   ]
  },
  {
   "cell_type": "code",
   "execution_count": 37,
   "metadata": {},
   "outputs": [
    {
     "name": "stdout",
     "output_type": "stream",
     "text": [
      "강아지 happy happy\n"
     ]
    }
   ],
   "source": [
    "z = '내 강아지 이름은 happy에요.'\n",
    "print(z[2:5], z[10:15], z[-8:-3])"
   ]
  },
  {
   "cell_type": "code",
   "execution_count": 35,
   "metadata": {
    "scrolled": true
   },
   "outputs": [
    {
     "name": "stdout",
     "output_type": "stream",
     "text": [
      "True\n",
      "False\n",
      "False\n",
      "<class 'bool'>\n"
     ]
    }
   ],
   "source": [
    "# ex 2-9\n",
    "a = True\n",
    "b = False\n",
    "print(a)\n",
    "print(b)\n",
    "\n",
    "c = 10 > 20\n",
    "print(c)\n",
    "\n",
    "print(type(a))"
   ]
  },
  {
   "cell_type": "code",
   "execution_count": 48,
   "metadata": {},
   "outputs": [
    {
     "name": "stdout",
     "output_type": "stream",
     "text": [
      "209.0\n"
     ]
    }
   ],
   "source": [
    "# ex 2-10\n",
    "a = 10\n",
    "b = 20\n",
    "\n",
    "c = a + b * 10 - 5 / 5\n",
    "print(c)"
   ]
  },
  {
   "cell_type": "code",
   "execution_count": 52,
   "metadata": {},
   "outputs": [
    {
     "name": "stdout",
     "output_type": "stream",
     "text": [
      "1\n",
      "2\n"
     ]
    }
   ],
   "source": [
    "# ex 2-11\n",
    "x = 10 % 3\n",
    "print(x)\n",
    " \n",
    "y = 7//3\n",
    "print(y)"
   ]
  },
  {
   "cell_type": "code",
   "execution_count": 54,
   "metadata": {},
   "outputs": [
    {
     "name": "stdout",
     "output_type": "stream",
     "text": [
      "8\n",
      "10000\n"
     ]
    }
   ],
   "source": [
    "# ex 2-12\n",
    "x = 2**3\n",
    "print(x)\n",
    "\n",
    "y = 10**4\n",
    "print(y)"
   ]
  },
  {
   "cell_type": "code",
   "execution_count": 56,
   "metadata": {},
   "outputs": [
    {
     "name": "stdout",
     "output_type": "stream",
     "text": [
      "30\n"
     ]
    }
   ],
   "source": [
    "# ex 2-13\n",
    "x = 10\n",
    "x += 20      # x = x + 20 과  동일\n",
    "print(x)"
   ]
  },
  {
   "cell_type": "code",
   "execution_count": 38,
   "metadata": {},
   "outputs": [
    {
     "name": "stdout",
     "output_type": "stream",
     "text": [
      "24\n"
     ]
    }
   ],
   "source": [
    "# ex 2-14\n",
    "x = 3\n",
    "y = 5\n",
    "x *= x + y\n",
    "print(x)"
   ]
  },
  {
   "cell_type": "code",
   "execution_count": 57,
   "metadata": {},
   "outputs": [
    {
     "name": "stdout",
     "output_type": "stream",
     "text": [
      "안녕안녕안녕안녕안녕\n"
     ]
    }
   ],
   "source": [
    "# ex 2-15\n",
    "hello = '안녕' * 5\n",
    "\n",
    "print(hello)"
   ]
  },
  {
   "cell_type": "code",
   "execution_count": 39,
   "metadata": {},
   "outputs": [
    {
     "name": "stdout",
     "output_type": "stream",
     "text": [
      "15\n"
     ]
    }
   ],
   "source": [
    "# ex 2-16\n",
    "a = '쥐 구멍에 볕 들 날 있다.'\n",
    "\n",
    "b = len(a)\n",
    "\n",
    "print(b)"
   ]
  },
  {
   "cell_type": "code",
   "execution_count": 40,
   "metadata": {},
   "outputs": [
    {
     "name": "stdout",
     "output_type": "stream",
     "text": [
      "홍지수님 안녕하세요!\n"
     ]
    }
   ],
   "source": [
    "# ex 2-17\n",
    "name = '홍지수'\n",
    "greet = name + '님 안녕하세요!'\n",
    "print(greet)"
   ]
  },
  {
   "cell_type": "code",
   "execution_count": 41,
   "metadata": {},
   "outputs": [
    {
     "ename": "TypeError",
     "evalue": "can only concatenate str (not \"int\") to str",
     "output_type": "error",
     "traceback": [
      "\u001b[1;31m---------------------------------------------------------------------------\u001b[0m",
      "\u001b[1;31mTypeError\u001b[0m                                 Traceback (most recent call last)",
      "\u001b[1;32m<ipython-input-41-727f9345d35a>\u001b[0m in \u001b[0;36m<module>\u001b[1;34m\u001b[0m\n\u001b[0;32m      1\u001b[0m \u001b[1;31m# ex 2-18\u001b[0m\u001b[1;33m\u001b[0m\u001b[1;33m\u001b[0m\u001b[1;33m\u001b[0m\u001b[0m\n\u001b[0;32m      2\u001b[0m \u001b[0meng\u001b[0m \u001b[1;33m=\u001b[0m \u001b[1;36m80\u001b[0m\u001b[1;33m\u001b[0m\u001b[1;33m\u001b[0m\u001b[0m\n\u001b[1;32m----> 3\u001b[1;33m \u001b[0mresult\u001b[0m \u001b[1;33m=\u001b[0m \u001b[1;34m'영어 점수 : '\u001b[0m\u001b[1;33m+\u001b[0m \u001b[0meng\u001b[0m \u001b[1;33m+\u001b[0m \u001b[1;34m'점'\u001b[0m\u001b[1;33m\u001b[0m\u001b[1;33m\u001b[0m\u001b[0m\n\u001b[0m\u001b[0;32m      4\u001b[0m \u001b[0mprint\u001b[0m\u001b[1;33m(\u001b[0m\u001b[0mresult\u001b[0m\u001b[1;33m)\u001b[0m\u001b[1;33m\u001b[0m\u001b[1;33m\u001b[0m\u001b[0m\n",
      "\u001b[1;31mTypeError\u001b[0m: can only concatenate str (not \"int\") to str"
     ]
    }
   ],
   "source": [
    "# ex 2-18\n",
    "eng = 80\n",
    "result = '영어 점수 : '+ eng + '점'\n",
    "print(result)"
   ]
  },
  {
   "cell_type": "code",
   "execution_count": 42,
   "metadata": {},
   "outputs": [
    {
     "name": "stdout",
     "output_type": "stream",
     "text": [
      "영어 점수 : 80점\n"
     ]
    }
   ],
   "source": [
    "result = '영어 점수 : '+ str(eng) + '점'\n",
    "print(result)"
   ]
  },
  {
   "cell_type": "code",
   "execution_count": 59,
   "metadata": {},
   "outputs": [
    {
     "name": "stdout",
     "output_type": "stream",
     "text": [
      "영어 점수 : 80점\n"
     ]
    }
   ],
   "source": [
    "# ex 2-19\n",
    "eng = 80\n",
    "result = '영어 점수 : ' + str(eng) + '점'\n",
    "print(result)"
   ]
  },
  {
   "cell_type": "code",
   "execution_count": 61,
   "metadata": {},
   "outputs": [
    {
     "name": "stdout",
     "output_type": "stream",
     "text": [
      "나는 김수영입니다.\n"
     ]
    }
   ],
   "source": [
    "# ex 2-20\n",
    "name = '김수영'\n",
    "a = '나는 %s입니다.' % name\n",
    "print(a)"
   ]
  },
  {
   "cell_type": "code",
   "execution_count": 62,
   "metadata": {},
   "outputs": [
    {
     "name": "stdout",
     "output_type": "stream",
     "text": [
      "나이는 20살 입니다.\n"
     ]
    }
   ],
   "source": [
    "# ex 2-21\n",
    "age = 20\n",
    "a = '나이는 %d살 입니다.' % age\n",
    "print(a)"
   ]
  },
  {
   "cell_type": "code",
   "execution_count": 43,
   "metadata": {},
   "outputs": [
    {
     "name": "stdout",
     "output_type": "stream",
     "text": [
      "2020-03-05\n"
     ]
    }
   ],
   "source": [
    "# ex 2-22\n",
    "year = 2020\n",
    "month = 3\n",
    "day = 5\n",
    "\n",
    "a = '%d-%02d-%02d' %(year, month, day)\n",
    "print(a)"
   ]
  },
  {
   "cell_type": "code",
   "execution_count": 46,
   "metadata": {},
   "outputs": [
    {
     "name": "stdout",
     "output_type": "stream",
     "text": [
      "키는 172.50입니다.\n"
     ]
    }
   ],
   "source": [
    "# ex 2-23\n",
    "height = 172.5\n",
    "a = '키는 %.2f입니다.' % height\n",
    "\n",
    "print(a)"
   ]
  },
  {
   "cell_type": "code",
   "execution_count": 47,
   "metadata": {},
   "outputs": [
    {
     "name": "stdout",
     "output_type": "stream",
     "text": [
      "키는     172.50입니다.\n"
     ]
    }
   ],
   "source": [
    "a = '키는 %10.2f입니다.' % height\n",
    "\n",
    "print(a)"
   ]
  },
  {
   "cell_type": "code",
   "execution_count": 53,
   "metadata": {},
   "outputs": [
    {
     "name": "stdout",
     "output_type": "stream",
     "text": [
      "이름 : 황예린\n",
      "나이 : 18세\n",
      "시력 : 1.2\n"
     ]
    }
   ],
   "source": [
    "# ex 2-24\n",
    "name = '황예린'\n",
    "age = 18\n",
    "eyesight = 1.2\n",
    "\n",
    "a = '이름 : {}'.format(name)\n",
    "b = '나이 : {}세'.format(age)\n",
    "c = '시력 : {}'.format(eyesight)\n",
    "\n",
    "print(a)\n",
    "print(b)\n",
    "print(c)"
   ]
  },
  {
   "cell_type": "code",
   "execution_count": 74,
   "metadata": {},
   "outputs": [
    {
     "data": {
      "text/plain": [
       "1"
      ]
     },
     "execution_count": 74,
     "metadata": {},
     "output_type": "execute_result"
    }
   ],
   "source": [
    "# 문자열 메소드\n",
    "x = 'I am happy!'\n",
    "x.count('am')"
   ]
  },
  {
   "cell_type": "code",
   "execution_count": 75,
   "metadata": {},
   "outputs": [
    {
     "data": {
      "text/plain": [
       "5"
      ]
     },
     "execution_count": 75,
     "metadata": {},
     "output_type": "execute_result"
    }
   ],
   "source": [
    "x.find('happy')"
   ]
  },
  {
   "cell_type": "code",
   "execution_count": 76,
   "metadata": {},
   "outputs": [
    {
     "data": {
      "text/plain": [
       "'I AM HAPPY!'"
      ]
     },
     "execution_count": 76,
     "metadata": {},
     "output_type": "execute_result"
    }
   ],
   "source": [
    "x.upper()"
   ]
  },
  {
   "cell_type": "code",
   "execution_count": 78,
   "metadata": {},
   "outputs": [
    {
     "data": {
      "text/plain": [
       "'I was happy!'"
      ]
     },
     "execution_count": 78,
     "metadata": {},
     "output_type": "execute_result"
    }
   ],
   "source": [
    "x.replace('am', 'was')"
   ]
  },
  {
   "cell_type": "code",
   "execution_count": 80,
   "metadata": {},
   "outputs": [
    {
     "data": {
      "text/plain": [
       "['I', 'am', 'happy!']"
      ]
     },
     "execution_count": 80,
     "metadata": {},
     "output_type": "execute_result"
    }
   ],
   "source": [
    "x.split(' ')"
   ]
  },
  {
   "cell_type": "code",
   "execution_count": 81,
   "metadata": {},
   "outputs": [
    {
     "data": {
      "text/plain": [
       "False"
      ]
     },
     "execution_count": 81,
     "metadata": {},
     "output_type": "execute_result"
    }
   ],
   "source": [
    "x.isspace()"
   ]
  },
  {
   "cell_type": "code",
   "execution_count": 63,
   "metadata": {},
   "outputs": [
    {
     "name": "stdout",
     "output_type": "stream",
     "text": [
      "홍길동 30 173.7\n"
     ]
    }
   ],
   "source": [
    "# ex 2-25\n",
    "name = '홍길동'\n",
    "age = 30\n",
    "height = 173.7\n",
    "print(name, age, height)"
   ]
  },
  {
   "cell_type": "code",
   "execution_count": 64,
   "metadata": {},
   "outputs": [
    {
     "name": "stdout",
     "output_type": "stream",
     "text": [
      "x = 10, y = 20\n"
     ]
    }
   ],
   "source": [
    "# ex 2-26\n",
    "x = 10\n",
    "y = 20\n",
    "\n",
    "print('x = ' + str(x) + ', y = ' + str(y))"
   ]
  },
  {
   "cell_type": "code",
   "execution_count": 65,
   "metadata": {},
   "outputs": [
    {
     "name": "stdout",
     "output_type": "stream",
     "text": [
      "두 과목 점수 : 80, 87\n",
      "합계 : 167, 평균 : 83.50\n"
     ]
    }
   ],
   "source": [
    "# ex 2-27\n",
    "score1 = 80\n",
    "score2 = 87\n",
    "\n",
    "sum = score1 + score2\n",
    "avg = sum/2\n",
    "\n",
    "print('두 과목 점수 : %d, %d' % (score1, score2))\n",
    "print('합계 : %d, 평균 : %.2f' % (sum, avg))"
   ]
  },
  {
   "cell_type": "code",
   "execution_count": 66,
   "metadata": {},
   "outputs": [
    {
     "name": "stdout",
     "output_type": "stream",
     "text": [
      "이름 : 김소원\n",
      "아이디: kim, 마일리지 : 18000\n"
     ]
    }
   ],
   "source": [
    "# ex 2-28\n",
    "name = '김소원'\n",
    "id = 'kim'\n",
    "point = 18000\n",
    "\n",
    "print('이름 : {}'.format(name))\n",
    "print('아이디: {}, 마일리지 : {}'.format(id, point))"
   ]
  },
  {
   "cell_type": "code",
   "execution_count": 67,
   "metadata": {},
   "outputs": [
    {
     "name": "stdout",
     "output_type": "stream",
     "text": [
      "2020/3/5\n"
     ]
    }
   ],
   "source": [
    "# ex 2-29\n",
    "year = 2020\n",
    "month = 3\n",
    "day = 5\n",
    "\n",
    "print(year, month, day, sep='/')"
   ]
  },
  {
   "cell_type": "code",
   "execution_count": 82,
   "metadata": {
    "scrolled": true
   },
   "outputs": [
    {
     "name": "stdout",
     "output_type": "stream",
     "text": [
      "오늘은\n",
      "2020 5 29\n",
      "입니다\n"
     ]
    }
   ],
   "source": [
    "# sep, end\n",
    "print('오늘은')\n",
    "year = 2020\n",
    "month = 5\n",
    "day = 29\n",
    "print(year, month, day)\n",
    "print('입니다')"
   ]
  },
  {
   "cell_type": "code",
   "execution_count": 84,
   "metadata": {},
   "outputs": [
    {
     "name": "stdout",
     "output_type": "stream",
     "text": [
      "오늘은 2020/5/29 입니다\n"
     ]
    }
   ],
   "source": [
    "# 오늘은 2020/5/29 입니다\n",
    "print('오늘은', end = ' ')\n",
    "print(year, month, day, sep = '/', end = ' ')\n",
    "print('입니다')"
   ]
  },
  {
   "cell_type": "code",
   "execution_count": 68,
   "metadata": {},
   "outputs": [
    {
     "name": "stdout",
     "output_type": "stream",
     "text": [
      "안녕하세요.\n",
      "반갑습니다.\n",
      "\n",
      "\n",
      "\n",
      "안녕하세요.반갑습니다.\n"
     ]
    }
   ],
   "source": [
    "# ex 2-30\n",
    "a = '안녕하세요.'\n",
    "b = '반갑습니다.'\n",
    "\n",
    "print(a)\n",
    "print(b)\n",
    "\n",
    "print('\\n\\n')\n",
    "\n",
    "print(a, end='')\n",
    "print(b)"
   ]
  },
  {
   "cell_type": "code",
   "execution_count": 69,
   "metadata": {},
   "outputs": [
    {
     "name": "stdout",
     "output_type": "stream",
     "text": [
      "이름을 입력하세요 : 임해찬\n",
      "임해찬님 반갑습니다.\n"
     ]
    }
   ],
   "source": [
    "# ex 2-31\n",
    "name = input('이름을 입력하세요 : ')\n",
    "\n",
    "print('%s님 반갑습니다.' % name)"
   ]
  },
  {
   "cell_type": "code",
   "execution_count": 85,
   "metadata": {},
   "outputs": [
    {
     "name": "stdout",
     "output_type": "stream",
     "text": [
      "첫 번째 숫자를 입력하세요 : 30\n",
      "두 번째 숫자를 입력하세요 : 20\n",
      "3020\n",
      "<class 'str'> <class 'str'> <class 'str'>\n"
     ]
    }
   ],
   "source": [
    "# ex 2-32\n",
    "a = input('첫 번째 숫자를 입력하세요 : ')\n",
    "b = input('두 번째 숫자를 입력하세요 : ')\n",
    "\n",
    "c = a + b\n",
    "\n",
    "print(c)\n",
    "print(type(a), type(b), type(c))"
   ]
  },
  {
   "cell_type": "code",
   "execution_count": 86,
   "metadata": {},
   "outputs": [
    {
     "name": "stdout",
     "output_type": "stream",
     "text": [
      "첫 번째 숫자를 입력하세요 : 30\n",
      "두 번째 숫자를 입력하세요 : 20\n",
      "50\n"
     ]
    }
   ],
   "source": [
    "# ex 2-33\n",
    "a = int(input('첫 번째 숫자를 입력하세요 : '))\n",
    "b = int(input('두 번째 숫자를 입력하세요 : '))\n",
    "\n",
    "c = a + b\n",
    "\n",
    "print(c)"
   ]
  },
  {
   "cell_type": "code",
   "execution_count": 72,
   "metadata": {},
   "outputs": [
    {
     "name": "stdout",
     "output_type": "stream",
     "text": [
      "인치(inch)를 입력하세요 : 32.8\n",
      "센티미터 : 83.31\n"
     ]
    }
   ],
   "source": [
    "# ex 2-34\n",
    "inch = float(input('인치(inch)를 입력하세요 : '))\n",
    "\n",
    "cm = inch * 2.54\n",
    "\n",
    "print('센티미터 : %.2f' % cm)"
   ]
  },
  {
   "cell_type": "code",
   "execution_count": 89,
   "metadata": {},
   "outputs": [
    {
     "name": "stdout",
     "output_type": "stream",
     "text": [
      "30\n"
     ]
    }
   ],
   "source": [
    "\"\"\"\n",
    "프로그램명 : 두 수 더하기\n",
    "작성자 : 홍길동\n",
    "작성일 : 2021.9.20\n",
    "\"\"\"\n",
    "\n",
    "a = 10     # 변수 a에 10 저장\n",
    "b = 20     # 변수 b에 20 저장\n",
    "\n",
    "c = a + b  # 두 수를 더해 변수 c에  저장\n",
    "\n",
    "# 결과를 출력한다.\n",
    "print(c)"
   ]
  }
 ],
 "metadata": {
  "kernelspec": {
   "display_name": "Python 3",
   "language": "python",
   "name": "python3"
  },
  "language_info": {
   "codemirror_mode": {
    "name": "ipython",
    "version": 3
   },
   "file_extension": ".py",
   "mimetype": "text/x-python",
   "name": "python",
   "nbconvert_exporter": "python",
   "pygments_lexer": "ipython3",
   "version": "3.7.6"
  }
 },
 "nbformat": 4,
 "nbformat_minor": 4
}
