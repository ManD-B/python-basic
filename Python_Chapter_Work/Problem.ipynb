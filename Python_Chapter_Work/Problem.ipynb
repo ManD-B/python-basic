{
 "cells": [
  {
   "cell_type": "markdown",
   "metadata": {},
   "source": [
    "# 1. 조건문"
   ]
  },
  {
   "cell_type": "code",
   "execution_count": 49,
   "metadata": {
    "scrolled": false
   },
   "outputs": [
    {
     "name": "stdout",
     "output_type": "stream",
     "text": [
      "※※※※※※윤년 확인 프로그램※※※※※※\n",
      "연도를 입력 : 2010\n",
      "해당년도는 윤년이 아닙니다.\n"
     ]
    }
   ],
   "source": [
    "# 1.\n",
    "print('※※※※※※윤년 확인 프로그램※※※※※※')\n",
    "year = int(input('연도를 입력 : '))\n",
    "if year % 4 == 0 and year % 100 != 0 or year % 400 == 0 :\n",
    "    print('해당년도는 윤년이 맞습니다.')\n",
    "else :\n",
    "    print('해당년도는 윤년이 아닙니다.')"
   ]
  },
  {
   "cell_type": "code",
   "execution_count": 4,
   "metadata": {},
   "outputs": [
    {
     "name": "stdout",
     "output_type": "stream",
     "text": [
      "시 입력 : 2\n",
      "분 입력 : 20\n",
      "1 : 35\n"
     ]
    }
   ],
   "source": [
    "# 2.\n",
    "hour = int(input('시 입력 : '))\n",
    "minute_in = int(input('분 입력 : '))\n",
    "minute_out = minute_in - 45\n",
    "if minute_out < 0 :\n",
    "    hour -= 1\n",
    "    minute_out += 60\n",
    "print('%d : %d' % (hour, minute_out))"
   ]
  },
  {
   "cell_type": "code",
   "execution_count": 13,
   "metadata": {
    "scrolled": true
   },
   "outputs": [
    {
     "name": "stdout",
     "output_type": "stream",
     "text": [
      "a값 입력 : 1\n",
      "b값 입력 : 2\n",
      "c값 입력 : 55\n",
      "2\n"
     ]
    }
   ],
   "source": [
    "# 3.\n",
    "a = int(input('a값 입력 : '))\n",
    "b = int(input('b값 입력 : '))\n",
    "c = int(input('c값 입력 : '))\n",
    "\n",
    "if a > b and a > c :\n",
    "    if b > c :\n",
    "        print(b)\n",
    "    else :\n",
    "        print(c)\n",
    "elif b > c and b > a :\n",
    "    if c > a :\n",
    "        print(c)\n",
    "    else :\n",
    "        print(a)\n",
    "elif c > a and c > b :\n",
    "    if a > b :\n",
    "        print(a)\n",
    "    else :\n",
    "        print(b)"
   ]
  },
  {
   "cell_type": "code",
   "execution_count": 5,
   "metadata": {
    "scrolled": true
   },
   "outputs": [
    {
     "name": "stdout",
     "output_type": "stream",
     "text": [
      "200 375 425\n"
     ]
    }
   ],
   "source": [
    "# 4.\n",
    "for a in range(1, 332):\n",
    "    for b in range(a + 1, 499):\n",
    "        c = 1000 - a - b\n",
    "        if (a ** 2) + (b ** 2) == (c ** 2) and a < b < c and a + b > c:\n",
    "            print(a, b, c)\n",
    "            break"
   ]
  },
  {
   "cell_type": "markdown",
   "metadata": {},
   "source": [
    "# 반복문"
   ]
  },
  {
   "cell_type": "code",
   "execution_count": 7,
   "metadata": {},
   "outputs": [
    {
     "name": "stdout",
     "output_type": "stream",
     "text": [
      "테스트 케이스의 개수 입력 : 5\n",
      "A값을 입력 : 1\n",
      "B값을 입력 : 2\n",
      "\"Case #1 : 1 + 2 = 3\"\n",
      "A값을 입력 : 3\n",
      "B값을 입력 : 5\n",
      "\"Case #2 : 3 + 5 = 8\"\n",
      "A값을 입력 : 2\n",
      "B값을 입력 : 2\n",
      "\"Case #3 : 2 + 2 = 4\"\n",
      "A값을 입력 : 54\n",
      "B값을 입력 : 5\n",
      "\"Case #4 : 54 + 5 = 59\"\n",
      "A값을 입력 : 4\n",
      "B값을 입력 : 5\n",
      "\"Case #5 : 4 + 5 = 9\"\n"
     ]
    }
   ],
   "source": [
    "# 1.\n",
    "T = int(input('테스트 케이스의 개수 입력 : '))\n",
    "for i in range(1, T+1) :\n",
    "    C = 0\n",
    "    A = int(input('A값을 입력 : '))\n",
    "    B = int(input('B값을 입력 : '))\n",
    "    C = A + B\n",
    "    print('\"Case #%d : %d + %d = %d\"' % (i, A, B, C))"
   ]
  },
  {
   "cell_type": "code",
   "execution_count": 1,
   "metadata": {},
   "outputs": [
    {
     "name": "stdout",
     "output_type": "stream",
     "text": [
      "※ 입력값은 5이상 9이하의 홀수 값이여야함\n",
      "가장 긴 줄의 (*) 개수를 입력 : 7\n",
      "      *\n",
      "     ***\n",
      "    *****\n",
      "   *******\n"
     ]
    }
   ],
   "source": [
    "# 2.\n",
    "print('※ 입력값은 5이상 9이하의 홀수 값이여야함')\n",
    "n = int(input('가장 긴 줄의 (*) 개수를 입력 : '))\n",
    "for i in range(1, n + 1, 2) :\n",
    "    space = int(n - i / 2)\n",
    "    print(' ' * space, end = '')\n",
    "    print('*' * i)\n"
   ]
  },
  {
   "cell_type": "code",
   "execution_count": 46,
   "metadata": {},
   "outputs": [
    {
     "name": "stdout",
     "output_type": "stream",
     "text": [
      "29700\n"
     ]
    }
   ],
   "source": [
    "# 3.\n",
    "sum = 0\n",
    "sum1 = 0\n",
    "sum2 = 0\n",
    "count = 0\n",
    "for i in range(0, 24) :            # '시'에 3이 포함될 때...(1)\n",
    "    if i == 3 or i == 13 or i == 23 :\n",
    "        count += 1\n",
    "        sum1 += 60\n",
    "for j in range(0, 60) :            # '분'에 3이 포함될 때...(2)\n",
    "    if j == 3 or j == 13 or j == 23 or (j >= 30 and j <=39) or j == 43 or j == 53 :\n",
    "        sum2 += 1\n",
    "sum = (sum1 + sum2 * (24 - count)) # 총 값 = (1) - (2) * (총시간-중복시간)\n",
    "second = 60 * sum                  # 분을 초단위로 계산\n",
    "print(second)"
   ]
  },
  {
   "cell_type": "code",
   "execution_count": null,
   "metadata": {},
   "outputs": [],
   "source": [
    "# 4.\n",
    "\n"
   ]
  }
 ],
 "metadata": {
  "kernelspec": {
   "display_name": "Python 3",
   "language": "python",
   "name": "python3"
  },
  "language_info": {
   "codemirror_mode": {
    "name": "ipython",
    "version": 3
   },
   "file_extension": ".py",
   "mimetype": "text/x-python",
   "name": "python",
   "nbconvert_exporter": "python",
   "pygments_lexer": "ipython3",
   "version": "3.7.6"
  }
 },
 "nbformat": 4,
 "nbformat_minor": 4
}
