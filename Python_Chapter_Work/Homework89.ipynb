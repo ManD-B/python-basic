{
 "cells": [
  {
   "cell_type": "markdown",
   "metadata": {},
   "source": [
    "# 8장 연습문제 풀이 -임해찬-"
   ]
  },
  {
   "cell_type": "code",
   "execution_count": 49,
   "metadata": {},
   "outputs": [],
   "source": [
    "# ■ 모듈 lib이 다음과 같을 때 물음에 답하시오.(1~3번 문제)\n",
    "def fact(start, end) :\n",
    "    f = 1\n",
    "    for x in range(start, end + 1) :\n",
    "        f *= x\n",
    "    return f\n",
    "\n",
    "def inc_10(x) :\n",
    "    x += 10\n",
    "    return x\n",
    "\n",
    "def mul_20(x) :\n",
    "    return x*20"
   ]
  },
  {
   "cell_type": "code",
   "execution_count": 50,
   "metadata": {},
   "outputs": [
    {
     "name": "stdout",
     "output_type": "stream",
     "text": [
      "15\n"
     ]
    }
   ],
   "source": [
    "# 1. 다음 프로그램에서 밑줄 친 곳에 들어갈 내용은 무엇인가?\n",
    "# 가. inc_10   나. lib.inc_10   다. inc_10.inc_10   라. inc_10.lib\n",
    "from lib import inc_10\n",
    "\n",
    "#print(________(5))\n",
    "print(inc_10(5))"
   ]
  },
  {
   "cell_type": "code",
   "execution_count": 51,
   "metadata": {},
   "outputs": [
    {
     "name": "stdout",
     "output_type": "stream",
     "text": [
      "138\n"
     ]
    }
   ],
   "source": [
    "# 2. 다음 프로그램의 실행 결과를 보기에서 고르시오.\n",
    "# 가. 138    나. 78    다. 86    라. 128\n",
    "import lib\n",
    "a = lib.mul_20(3)\n",
    "b = a + lib.fact(1,3)\n",
    "c = a + b + lib.inc_10(2)\n",
    "print(c)"
   ]
  },
  {
   "cell_type": "code",
   "execution_count": 52,
   "metadata": {},
   "outputs": [
    {
     "name": "stdout",
     "output_type": "stream",
     "text": [
      "35\n"
     ]
    }
   ],
   "source": [
    "# 3. 다음 프로그램의 실행 결과는 무엇인가?\n",
    "import lib as lb\n",
    "\n",
    "a = 1\n",
    "b = 2\n",
    "c = 3\n",
    "\n",
    "d = lb.fact(a, b)\n",
    "d += lb.inc_10(c)\n",
    "e = d + lb.mul_20(a)\n",
    "print(e)"
   ]
  },
  {
   "cell_type": "code",
   "execution_count": 53,
   "metadata": {},
   "outputs": [],
   "source": [
    "# 4. 다음의 random 모듈의 함수 중 리스트나 튜플의 요소의 순서를 무작위로 변경하는 데\n",
    "#    사용되는 것은 무엇인가? ( 다 )\n",
    "# 가. randint()    나. choice()    다. shuffle()    라. randrange()"
   ]
  },
  {
   "cell_type": "code",
   "execution_count": 54,
   "metadata": {},
   "outputs": [],
   "source": [
    "# 5. datetime.strftime() 메소드의 포맷 기호 중에서 AM 또는 PM을 나타내는 것은?( 라 )\n",
    "# 가. %Y    나. %M    다. %s    라. %p"
   ]
  },
  {
   "cell_type": "code",
   "execution_count": 55,
   "metadata": {},
   "outputs": [
    {
     "name": "stdout",
     "output_type": "stream",
     "text": [
      "나 : 3\n",
      "당신 : 5\n",
      "당신의 승리!\n",
      "계속하려면 y를 입력하세요!\n"
     ]
    }
   ],
   "source": [
    "# 6. 예제 8-11을 참고하여 다음과 같은 실행 결과를 가져오는 주사위 게임을 만들어 보시오.\n",
    "import random\n",
    "\n",
    "again = 'y'\n",
    "\n",
    "while again =='y':\n",
    "    me = random.randint(1, 6)\n",
    "    you = random.randint(1, 6)\n",
    "    print('나 : %d' % me )\n",
    "    print('당신 : %d' % you)\n",
    "    \n",
    "    if me > you :\n",
    "        print('나의 승리!')\n",
    "    elif me == you :\n",
    "        print('무승부!')\n",
    "    else :\n",
    "        print('당신의 승리!')\n",
    "    \n",
    "    again = input('계속하려면 y를 입력하세요!')"
   ]
  },
  {
   "cell_type": "markdown",
   "metadata": {},
   "source": [
    "# 9장 연습문제 풀이"
   ]
  },
  {
   "cell_type": "code",
   "execution_count": 56,
   "metadata": {},
   "outputs": [
    {
     "name": "stdout",
     "output_type": "stream",
     "text": [
      "abcde\n"
     ]
    }
   ],
   "source": [
    "# 1. TestClass1를 만들고, 이 클래스의 속성 strings에 'abcde'를 저장한다.\n",
    "#    그리고 strings의 값을 출력하는 프로그램을 작성하시오.\n",
    "class TestClass1 :\n",
    "    strings = 'abcde'\n",
    "print(TestClass1.strings)"
   ]
  },
  {
   "cell_type": "code",
   "execution_count": 57,
   "metadata": {},
   "outputs": [
    {
     "name": "stdout",
     "output_type": "stream",
     "text": [
      "이름 : 홍길동\n",
      "이메일 : test@korea.com\n"
     ]
    }
   ],
   "source": [
    "# 2. TestClass2를 만든다. 이 클래스의 인스턴스 속성을 name과 email로 한다.\n",
    "#    '홍길동', 'test@korea.com'의 값을 가진 객체를 생성한다.\n",
    "#    이 객체의 속성을 출력하는 프로그램을 작성하시오.\n",
    "class TestClass2 :\n",
    "    def __init__(self, name, email) :\n",
    "        self.name = name                     # 인스턴스 속성\n",
    "        self.email = email\n",
    "        \n",
    "obj = TestClass2('홍길동', 'test@korea.com') # 객체\n",
    "print('이름 : %s'% (obj.name))\n",
    "print('이메일 : %s'% (obj.email))"
   ]
  },
  {
   "cell_type": "code",
   "execution_count": 58,
   "metadata": {},
   "outputs": [
    {
     "name": "stdout",
     "output_type": "stream",
     "text": [
      "이름 : 홍길동\n",
      "이메일 : test@korea.com\n"
     ]
    }
   ],
   "source": [
    "# 3. 2번에서 정의한 클래스 내에 printInfo() 메소드를 정의하여 그 메소드에서 2번의 실행\n",
    "#    결과와 동일한 메시지를 출력하는 프로그램을 작성하시오.\n",
    "class TestClass2 :\n",
    "    def __init__(self, name, email) :\n",
    "        self.name = name                     # 인스턴스 속성\n",
    "        self.email = email\n",
    "        \n",
    "    def printInfo(self) :                    # 메소드\n",
    "        print('이름 : %s'% self.name)\n",
    "        print('이메일 : %s'% self.email)\n",
    "        \n",
    "obj = TestClass2('홍길동', 'test@korea.com') # 객체\n",
    "obj.printInfo()"
   ]
  },
  {
   "cell_type": "code",
   "execution_count": 59,
   "metadata": {},
   "outputs": [
    {
     "name": "stdout",
     "output_type": "stream",
     "text": [
      "이름 : 홍길동\n",
      "전화번호 : 010-1234-5678\n",
      "주소 : 성남시\n"
     ]
    }
   ],
   "source": [
    "# 4. 클래스 Member는 name, phone, address를 인스턴스 속성으로 한다. '홍길동', '010-1234-4567',\n",
    "#    '성남시'로 객체를 생성한 다음 인스턴스 속성들을 출력하는 프로그램을 작성하시오.\n",
    "class Member :\n",
    "    def __init__(self, name, phone, address) :\n",
    "        self.name = name\n",
    "        self.phone = phone\n",
    "        self.address = address\n",
    "\n",
    "obj = Member('홍길동', '010-1234-5678', '성남시')\n",
    "print('이름 : %s' % obj.name)\n",
    "print('전화번호 : %s' % obj.phone)\n",
    "print('주소 : %s' % obj.address)"
   ]
  },
  {
   "cell_type": "code",
   "execution_count": 60,
   "metadata": {},
   "outputs": [
    {
     "name": "stdout",
     "output_type": "stream",
     "text": [
      "이름 : 홍길동\n",
      "전화번호 : 010-1234-5678\n",
      "주소 : 성남시\n"
     ]
    }
   ],
   "source": [
    "# 5. 4번 문제에서 다음의 딕셔너리를 클래스 Member의 생성자에 전달하여 인스턴스 속성들을\n",
    "#    설정하고 그 값을 출력하는 프로그램을 작성하시오.\n",
    "class Member :\n",
    "    def __init__(self, ob_dict) :\n",
    "        self.name = ob_dict['name']\n",
    "        self.phone = ob_dict['phone']\n",
    "        self.address = ob_dict['address']\n",
    "\n",
    "dict = {'name' : '홍길동', 'phone' : '010-1234-5678', 'address' : '성남시'}\n",
    "obj = Member(dict)\n",
    "print('이름 : %s' % obj.name)\n",
    "print('전화번호 : %s' % obj.phone)\n",
    "print('주소 : %s' % obj.address)\n"
   ]
  },
  {
   "cell_type": "code",
   "execution_count": 61,
   "metadata": {},
   "outputs": [
    {
     "name": "stdout",
     "output_type": "stream",
     "text": [
      "저자 : 홍길동\n",
      "출판사 : 지구출판사\n",
      "유형 : PDF\n"
     ]
    }
   ],
   "source": [
    "# 6. 다음은 객체지향 방식으로 책과 전자책의 저자, 출판사, 책 유형등의 정보를 관리하기 위한\n",
    "#    예제 프로그램이다. 프로그램 중에 오류가 세 군데 있다. 오류가 발생된 행을 명시하고\n",
    "#    오류의 이유를 설명하시오\n",
    "class Book :\n",
    "    def __init__(self, author, publish) :\n",
    "        self.author = author\n",
    "        self.publish = publish\n",
    "        \n",
    "#    def getAuthorInfo() :\n",
    "    def getAuthorInfo(self) :\n",
    "        string = '저자 : %s' % self.author\n",
    "        return string\n",
    "    \n",
    "#    def getPublishInfo() :\n",
    "    def getPublishInfo(self) :\n",
    "        string = '출판사 : %s' % self.publish\n",
    "        return string\n",
    "    \n",
    "class Ebook(Book) :\n",
    "    def __init__(self, author, publish, type) :\n",
    "#        __init__(author, publish)\n",
    "        super().__init__(author, publish)\n",
    "        self.type = type\n",
    "    \n",
    "#    def getTypeInfo() :\n",
    "    def getTypeInfo(self) :\n",
    "        string = '유형 : %s' % self.type\n",
    "        return string\n",
    "\n",
    "book1 = Ebook('홍길동', '지구출판사', 'PDF')\n",
    "\n",
    "print(book1.getAuthorInfo())\n",
    "print(book1.getPublishInfo())\n",
    "print(book1.getTypeInfo())\n",
    "# 메소드의 매개변수에 self를 삽입해야만 self.지역변수를 사용할 수 있다."
   ]
  }
 ],
 "metadata": {
  "kernelspec": {
   "display_name": "Python 3",
   "language": "python",
   "name": "python3"
  },
  "language_info": {
   "codemirror_mode": {
    "name": "ipython",
    "version": 3
   },
   "file_extension": ".py",
   "mimetype": "text/x-python",
   "name": "python",
   "nbconvert_exporter": "python",
   "pygments_lexer": "ipython3",
   "version": "3.7.6"
  }
 },
 "nbformat": 4,
 "nbformat_minor": 4
}
