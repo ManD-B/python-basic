{
 "cells": [
  {
   "cell_type": "markdown",
   "metadata": {},
   "source": [
    "# 13장 연습문제 풀이 -임해찬"
   ]
  },
  {
   "cell_type": "code",
   "execution_count": 1,
   "metadata": {},
   "outputs": [],
   "source": [
    "# ■ 다음은 교육부에서 제공한 전국 고등학교의 학년별 학급수와 학생수 정보(2019년 기준)를\n",
    "# 저장한 파일이다. 다음 물음에 답하시오.(1~4번 문제)"
   ]
  },
  {
   "cell_type": "code",
   "execution_count": 1,
   "metadata": {},
   "outputs": [
    {
     "name": "stdout",
     "output_type": "stream",
     "text": [
      "['지역', ' 학교명', ' 1학년 학급수', ' 1학년 학생수', ' 2학년 학급수', ' 2학년 학생수', ' 3학년 학급수', ' 3학년 학생수']\n"
     ]
    }
   ],
   "source": [
    "# 1. high_school_2019.csv 파일을 읽어들여 2차원 리스트에 저장한 다음 출력하는 프로그램을\n",
    "#    작성하시오.\n",
    "import csv\n",
    "\n",
    "f = open('high_school_2019.csv', 'r', encoding='utf-8')\n",
    "lines = csv.reader(f)\n",
    "\n",
    "header = next(lines)\n",
    "print(header)\n",
    "\n",
    "list_data = []\n",
    "for line in lines :\n",
    "    list_data.append(line[:])\n",
    "\n",
    "list_data\n",
    "f.close()"
   ]
  },
  {
   "cell_type": "code",
   "execution_count": 14,
   "metadata": {},
   "outputs": [
    {
     "name": "stdout",
     "output_type": "stream",
     "text": [
      "------------------------------------------------------------------------\n",
      "1학년 학급수 1학년 학생수 2학년 학급수 2학년 학생수 3학년 학급수 3학년 학생수\n",
      "------------------------------------------------------------------------\n",
      "[[  5 150   5 149   5 143]\n",
      " [  8 239   8 228   8 270]\n",
      " [  6 182   6 174   6 169]\n",
      " ...\n",
      " [  4  76   5  91   5 103]\n",
      " [  4  99   4  95   4  92]\n",
      " [  5 116   5  98   5 126]]\n"
     ]
    }
   ],
   "source": [
    "# 2. 1번에서 저장된 2차원 리스트 데이터 중에서 숫자 데이터에 해당되는 6개의 열\n",
    "#    (1학년 학급수, 1학년 학생수, 2학년 학생수, 3학년 학급수, 3학년 학생수) 데이터를\n",
    "#    ndarray에 저장하는 프로그램을 작성하시오.\n",
    "import csv\n",
    "import numpy as np\n",
    "\n",
    "f = open('high_school_2019.csv', 'r', encoding='utf-8')\n",
    "lines = csv.reader(f)\n",
    "\n",
    "header = next(lines)\n",
    "\n",
    "list_data = []\n",
    "for line in lines :\n",
    "    list_data.append(line[:])\n",
    "\n",
    "length = len(list_data)\n",
    "print('-' * 72)\n",
    "print('1학년 학급수 1학년 학생수 2학년 학급수 2학년 학생수 3학년 학급수 3학년 학생수')\n",
    "print('-' * 72)\n",
    "data = np.zeros((length, 6), dtype='int32')\n",
    "\n",
    "for i in range(length) :\n",
    "    for j in range(6) :\n",
    "        data[i][j] = list_data[i][j+2]\n",
    "        \n",
    "print(data)\n",
    "\n",
    "f.close()"
   ]
  },
  {
   "cell_type": "code",
   "execution_count": 15,
   "metadata": {},
   "outputs": [
    {
     "name": "stdout",
     "output_type": "stream",
     "text": [
      "2398\n",
      "------------------------------------------------------------------------\n",
      "1학년 학급수 1학년 학생수 2학년 학급수 2학년 학생수 3학년 학급수 3학년 학생수\n",
      "------------------------------------------------------------------------\n",
      "[[  5 150   5 149   5 143]\n",
      " [  8 239   8 228   8 270]\n",
      " [  6 182   6 174   6 169]\n",
      " ...\n",
      " [  4  76   5  91   5 103]\n",
      " [  4  99   4  95   4  92]\n",
      " [  5 116   5  98   5 126]]\n"
     ]
    }
   ],
   "source": [
    "# 3. 전국의 고등학교에 대해 각 학교의 총 학생수(1,2,3학년 학생수의 합)를 구해 마지막에 열에\n",
    "#    삽입하는 프로그램을 작성하시오.\n",
    "import csv\n",
    "import numpy as np\n",
    "\n",
    "f = open('high_school_2019.csv', 'r', encoding='utf-8')\n",
    "lines = csv.reader(f)\n",
    "\n",
    "header = next(lines)\n",
    "\n",
    "list_data = []\n",
    "for line in lines :\n",
    "    list_data.append(line[:])\n",
    "\n",
    "length = len(list_data)\n",
    "\n",
    "print('-' * 72)\n",
    "print('1학년 학급수 1학년 학생수 2학년 학급수 2학년 학생수 3학년 학급수 3학년 학생수')\n",
    "print('-' * 72)\n",
    "data = np.zeros((length, 6), dtype='int32')\n",
    "\n",
    "for i in range(length) :\n",
    "    for j in range(6) :\n",
    "        data[i][j] = list_data[i][j+2]\n",
    "        \n",
    "print(data)\n",
    "\n",
    "f.close()"
   ]
  },
  {
   "cell_type": "code",
   "execution_count": null,
   "metadata": {},
   "outputs": [],
   "source": []
  }
 ],
 "metadata": {
  "kernelspec": {
   "display_name": "Python 3",
   "language": "python",
   "name": "python3"
  },
  "language_info": {
   "codemirror_mode": {
    "name": "ipython",
    "version": 3
   },
   "file_extension": ".py",
   "mimetype": "text/x-python",
   "name": "python",
   "nbconvert_exporter": "python",
   "pygments_lexer": "ipython3",
   "version": "3.7.6"
  }
 },
 "nbformat": 4,
 "nbformat_minor": 4
}
