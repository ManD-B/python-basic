{
 "cells": [
  {
   "cell_type": "markdown",
   "metadata": {},
   "source": [
    "# 6장 연습문제 풀이 -임해찬-"
   ]
  },
  {
   "cell_type": "code",
   "execution_count": 51,
   "metadata": {},
   "outputs": [],
   "source": [
    "# ■회사 쇼핑몰 고객의 아이디에 부여된 마일리지 포인트를 딕셔너리에 저장하여 관리하고자 한다.\n",
    "# 다음 물음에 답하시오.(1번~4번 문제)\n",
    "# 아이디            kim99   lee66   han55   hong77   hwang33\n",
    "# 마일리지 포인트  12000    11000   3000    5000     18000"
   ]
  },
  {
   "cell_type": "code",
   "execution_count": 52,
   "metadata": {},
   "outputs": [
    {
     "name": "stdout",
     "output_type": "stream",
     "text": [
      "1. 아이디 : kim99, 마일리지 : 12000점\n",
      "2. 아이디 : lee66, 마일리지 : 11000점\n",
      "3. 아이디 : han55, 마일리지 : 3000점\n",
      "4. 아이디 : hong77, 마일리지 : 5000점\n",
      "5. 아이디 : hwang33, 마일리지 : 18000점\n"
     ]
    }
   ],
   "source": [
    "# 1. 위의 표에 나타난 아이디와 마일리지 포인트를 딕셔너리에 저장한 다음 출력하는 프로그램을\n",
    "#    작성하시오.\n",
    "point = {'kim99' : 12000, 'lee66' : 11000, 'han55' : 3000, 'hong77' : 5000,\n",
    "        'hwang33' : 18000}\n",
    "\n",
    "print('1. 아이디 : kim99, 마일리지 : %d점' % point['kim99'],)\n",
    "print('2. 아이디 : lee66, 마일리지 : %d점' % point['lee66'])\n",
    "print('3. 아이디 : han55, 마일리지 : %d점' % point['han55'])\n",
    "print('4. 아이디 : hong77, 마일리지 : %d점' % point['hong77'])\n",
    "print('5. 아이디 : hwang33, 마일리지 : %d점' % point['hwang33'])"
   ]
  },
  {
   "cell_type": "code",
   "execution_count": 53,
   "metadata": {},
   "outputs": [
    {
     "name": "stdout",
     "output_type": "stream",
     "text": [
      "han55님의 마일리지가 5000점으로 수정 되었습니다.\n"
     ]
    }
   ],
   "source": [
    "# 2. 아이디 'han55'의 마일리지를 5000점으로 업데이트하고 업데이트된 정보를 출력하는\n",
    "#    프로그램을 작성하시오.\n",
    "point['han55'] = 5000\n",
    "print('han55님의 마일리지가 %d점으로 수정 되었습니다.' % point['han55'])"
   ]
  },
  {
   "cell_type": "code",
   "execution_count": 54,
   "metadata": {},
   "outputs": [
    {
     "name": "stdout",
     "output_type": "stream",
     "text": [
      "전체 딕셔너리 : {'kim99': 12000, 'lee66': 11000, 'han55': 3000, 'hong77': 5000, 'hwang33': 18000, 'jang88': 7000}\n",
      "jang88님의 마일리지(7000점)가 추가 되었습니다.\n"
     ]
    }
   ],
   "source": [
    "# 3. 딕셔너리에 아이디 'jang88'과 마일리지 7000을 추가한 다음 전체 딕셔너리와 추가된\n",
    "#    데이터를 출력하는 프로그램을 작성하시오.\n",
    "point = {'kim99' : 12000, 'lee66' : 11000, 'han55' : 3000, 'hong77' : 5000,\n",
    "        'hwang33' : 18000}\n",
    "point['jang88'] = 7000\n",
    "print('전체 딕셔너리 :', point)\n",
    "print('jang88님의 마일리지(%d점)가 추가 되었습니다.' % point['jang88'])"
   ]
  },
  {
   "cell_type": "code",
   "execution_count": 55,
   "metadata": {},
   "outputs": [
    {
     "name": "stdout",
     "output_type": "stream",
     "text": [
      "hwang33님의 18000점이 가장 높은 점수입니다.\n"
     ]
    }
   ],
   "source": [
    "# 4. 딕셔너리에서 가장 높은 마일리지를 찾아서 출력하는 프로그램을 작성하시오.\n",
    "for i in point :\n",
    "    for j in point :\n",
    "        if point[i] < point[j] :\n",
    "            max = point[j]\n",
    "for a in point :\n",
    "    if point[a] == max :\n",
    "        save_name = a\n",
    "print('%s님의 %d점이 가장 높은 점수입니다.' % (save_name, max))"
   ]
  },
  {
   "cell_type": "code",
   "execution_count": 56,
   "metadata": {},
   "outputs": [],
   "source": [
    "# ■ 다음은 어느 지역의 일주일 간의 최고 기온을 나타낸 것이다. 다음 물음에 답하시오.\n",
    "# (5번~8번 문제)\n",
    "# 요일         월    화    수    목    금    토    일\n",
    "# 최고 기온  25.5  28.3  33.2  32.1  17.3  35.3  33.3"
   ]
  },
  {
   "cell_type": "code",
   "execution_count": 57,
   "metadata": {},
   "outputs": [
    {
     "name": "stdout",
     "output_type": "stream",
     "text": [
      " -------------------------------------------------- \n",
      "   월    화    수    목    금    토    일\n",
      " --------------------------------------------------\n",
      "  25.5  28.3  33.2  32.1  17.3  35.3  33.3\n",
      " --------------------------------------------------\n"
     ]
    }
   ],
   "source": [
    "# 5. 표의 데이터를 딕셔너리에 저장한 다음 출력하는 프로그램을 작성하시오.\n",
    "weather = {'월' : 25.5, '화' : 28.3, '수' : 33.2, '목' : 32.1,\n",
    "          '금' : 17.3, '토' : 35.3, '일' : 33.3}\n",
    "print('', '-' * 50, '\\n   월    화    수    목    금    토    일\\n',\n",
    "      '-' * 50)\n",
    "print('  %.1f  %.1f  %.1f  %.1f  %.1f  %.1f  %.1f\\n' \n",
    "      %(weather['월'], weather['화'], weather['수'], weather['목'],\n",
    "        weather['금'], weather['토'], weather['일']), '-' * 50)\n"
   ]
  },
  {
   "cell_type": "code",
   "execution_count": 58,
   "metadata": {},
   "outputs": [
    {
     "name": "stdout",
     "output_type": "stream",
     "text": [
      "가장 낮은 최고 기온 : 17.3˚\n"
     ]
    }
   ],
   "source": [
    "# 6. 딕녀서리에 주중 가장 낮은 최고 기온을 찾아서 출력하는 프로그램을 작성하시오.\n",
    "for i in weather :\n",
    "    for j in weather :\n",
    "        if weather[i] > weather[j] :\n",
    "            min = weather[j]\n",
    "print('가장 낮은 최고 기온 : %.1f˚' % min)"
   ]
  },
  {
   "cell_type": "code",
   "execution_count": 59,
   "metadata": {},
   "outputs": [
    {
     "name": "stdout",
     "output_type": "stream",
     "text": [
      "기온이 30˚ 이상인 요일 : 수, 목, 토, 일\n"
     ]
    }
   ],
   "source": [
    "# 7. 딕셔너리에서 주간 최고 기온이 30˚ 이상인 요일을 출력하는 프로그램을 작성하시오.\n",
    "print('기온이 30˚ 이상인 요일 : ', end = '')\n",
    "result = []\n",
    "for i in weather :\n",
    "    if weather[i] >= 30 :\n",
    "        result.append(i)\n",
    "for j in range(len(result)-1) :\n",
    "    print('%s, ' % result[j], end = '')\n",
    "print(result[len(result)-1])"
   ]
  },
  {
   "cell_type": "code",
   "execution_count": 60,
   "metadata": {},
   "outputs": [
    {
     "name": "stdout",
     "output_type": "stream",
     "text": [
      "일주일간 최고 기온의 평균 : 29.3˚\n"
     ]
    }
   ],
   "source": [
    "# 8. 딕셔너리에서 일주일간 최고 기온의 평균을 구하는 프로그램을 작성하시오.\n",
    "sum = 0\n",
    "for i in weather :\n",
    "    sum += weather[i]\n",
    "avg = sum / len(weather)\n",
    "print('일주일간 최고 기온의 평균 : %.1f˚' % avg)"
   ]
  },
  {
   "cell_type": "markdown",
   "metadata": {},
   "source": [
    "# 7장 연습문제 풀이"
   ]
  },
  {
   "cell_type": "code",
   "execution_count": 61,
   "metadata": {},
   "outputs": [
    {
     "name": "stdout",
     "output_type": "stream",
     "text": [
      "20, 10\n"
     ]
    }
   ],
   "source": [
    "# 1. 다음 프로그램의 실행 결과는 무엇인가? 보기에서 고르시오.( 나 )\n",
    "# 가. 10, 10     나. 20, 10     다. 10, 20     라. 20, 20\n",
    "def f1(a) :\n",
    "    a += 10\n",
    "    print(a, end = ', ')\n",
    "\n",
    "a = 10\n",
    "f1(a)\n",
    "print(a)"
   ]
  },
  {
   "cell_type": "code",
   "execution_count": 62,
   "metadata": {},
   "outputs": [
    {
     "name": "stdout",
     "output_type": "stream",
     "text": [
      "300, 100, 300\n"
     ]
    }
   ],
   "source": [
    "# 2. 다음 프로그램의 실행 결과는 무엇인가? 보기에서 고르시오.( 다 )\n",
    "# 가. 100,200,300  나. 300,500,300  다. 300,100,300  라. 300,500,200\n",
    "def f2(a) :\n",
    "    global y\n",
    "    y += a\n",
    "    x = 500\n",
    "    print(y, end = ', ')\n",
    "\n",
    "x = 100\n",
    "y = 200\n",
    "f2(x)\n",
    "print(x, end = ', ')\n",
    "print(y)"
   ]
  },
  {
   "cell_type": "code",
   "execution_count": 63,
   "metadata": {},
   "outputs": [
    {
     "name": "stdout",
     "output_type": "stream",
     "text": [
      "n값을 입력해 주세요 : 20\n",
      "2 ~ 20까지의 정수 중 소수 : 2 3 5 7 11 13 17 19 "
     ]
    }
   ],
   "source": [
    "# 3. 다음은 2~n까지의 정수 중에서 소수를 구하는 프로그램의 실행 결과이다.\n",
    "#    1개 이상의 사용자 함수를 정의하여 프로그램을 작성하시오.\n",
    "def prime_num(n) :\n",
    "    for a in range(2, n + 1) :\n",
    "        for b in range(2, n + 1) :\n",
    "            if a % b == 0 :\n",
    "                if a > b and a % b == 0 :\n",
    "                    break\n",
    "                else :\n",
    "                    print(a, end = ' ')\n",
    "\n",
    "n_in = int(input('n값을 입력해 주세요 : '))\n",
    "print('2 ~ 20까지의 정수 중 소수 : ', end = '')\n",
    "prime_num(n_in)"
   ]
  },
  {
   "cell_type": "code",
   "execution_count": 65,
   "metadata": {},
   "outputs": [
    {
     "name": "stdout",
     "output_type": "stream",
     "text": [
      "문자열을 입력하세요 : I am hungry.\n",
      ".yrgnuh ma I"
     ]
    }
   ],
   "source": [
    "# 4. 다은은 입력받은 문자열을 역순으로 출력하는 프로그램의 실행 결과이다.\n",
    "#    1개 이상의 사용자 함수를 정의하여 프로그램을 작성하시오.\n",
    "def reverse_word(word) :\n",
    "    for i in range(len(word), 0, -1) :\n",
    "        print(word[i-1], end = '')\n",
    "        \n",
    "word_in = input('문자열을 입력하세요 : ')\n",
    "reverse_word(word_in)"
   ]
  },
  {
   "cell_type": "code",
   "execution_count": 66,
   "metadata": {},
   "outputs": [
    {
     "name": "stdout",
     "output_type": "stream",
     "text": [
      "[1, 4, 9, 16, 25]\n"
     ]
    }
   ],
   "source": [
    "# 5. 다음 프로그램의 실행 결과는 무엇인가?\n",
    "def numSquare(num) :\n",
    "    list_new = []\n",
    "    for i in range(1, num+1) :\n",
    "        list_new.append(i ** 2)\n",
    "        \n",
    "    return list_new\n",
    "n = 5\n",
    "result = numSquare(n)\n",
    "print(result)"
   ]
  },
  {
   "cell_type": "code",
   "execution_count": 67,
   "metadata": {},
   "outputs": [
    {
     "name": "stdout",
     "output_type": "stream",
     "text": [
      "첫 번째 수를 입력하세요 : 8\n",
      "두 번째 수를 입력하세요 : 20\n",
      "8와 20의 최소공배수 : 40\n"
     ]
    }
   ],
   "source": [
    "# 6. 다음은 두 수의 최소 공배수를 구하는 프로그램의 실행 결과이다.\n",
    "#    1개 이상의 사용자 함수를 정의하여 프로그램을 작성하시오.\n",
    "def min_num(x, y) :\n",
    "    for i in range(1, 100) :\n",
    "        for j in range(1, 100) :\n",
    "            if x * i == y * j :\n",
    "                result = x * i\n",
    "                return result\n",
    "            \n",
    "first_num = int(input('첫 번째 수를 입력하세요 : '))\n",
    "second_num = int(input('두 번째 수를 입력하세요 : '))\n",
    "print('%d와 %d의 최소공배수 : %d' \n",
    "      % (first_num, second_num, min_num(first_num, Second_num)))"
   ]
  },
  {
   "cell_type": "code",
   "execution_count": 68,
   "metadata": {},
   "outputs": [
    {
     "name": "stdout",
     "output_type": "stream",
     "text": [
      "※ 비밀번호는 10자리 이상, 영문 대문자를 포함하여야 합니다.\n",
      "비밀번호 : 3677848\n",
      "비밀번호 확인 : 3677848\n",
      "비밀번호가 잘못되었습니다! 다시 입력해 주세요\n",
      "비밀번호 : A123456789\n",
      "비밀번호 확인 : asdfsadf\n",
      "비밀번호와 비밀번호 확인이 서로 다릅니다! 다시 입력해 주세요\n",
      "비밀번호 : A123456789\n",
      "비밀번호 확인 : A123456789\n",
      "유효한 비밀번호입니다~~~\n"
     ]
    }
   ],
   "source": [
    "# 7. 다음은 유효한 비밀번호(10자리 이상, 영문대문자 반드시 포함)를 만드는 프로그램의\n",
    "#    실행 결과이다. 1개 이상의 사용자 함수를 정의하여 프로그램을 작성하시오.\n",
    "def valid(number_input) :\n",
    "    return_value = False\n",
    "    if len(number_input) < 10 :\n",
    "        return False\n",
    "    \n",
    "    else :\n",
    "        for i in range(0, len(number_input)) :\n",
    "            if number_input[i] >= 'A' and number_input[i] <= 'Z' :\n",
    "                return_value = True\n",
    "    return return_value\n",
    "print('※ 비밀번호는 10자리 이상, 영문 대문자를 포함하여야 합니다.')\n",
    "while True :\n",
    "    password1 = input('비밀번호 : ')\n",
    "    password2 = input('비밀번호 확인 : ')\n",
    "    if password1 != password2 :\n",
    "        print('비밀번호와 비밀번호 확인이 서로 다릅니다!',\n",
    "              '다시 입력해 주세요')\n",
    "    elif valid(password1)  == False :\n",
    "        print('비밀번호가 잘못되었습니다! 다시 입력해 주세요')\n",
    "    else :\n",
    "        print('유효한 비밀번호입니다~~~')\n",
    "        break"
   ]
  },
  {
   "cell_type": "code",
   "execution_count": 69,
   "metadata": {},
   "outputs": [
    {
     "name": "stdout",
     "output_type": "stream",
     "text": [
      "[77, 36, 29, 11, 20, 6, 91, 33] \n",
      "정렬된 수 : \n",
      "6 11 20 29 33 36 77 91 "
     ]
    }
   ],
   "source": [
    "# 8. 리스트 numbers는 다음과 같이 정의된다. 리스트의 요소를 오름차순으로 정렬하는 프로그램을\n",
    "#    작성하시오. (단, 1개 이상의 사용자 함수를 정의하여야 함.)\n",
    "def ascending_order(number) :\n",
    "    print(number, '\\n정렬된 수 : ')\n",
    "    number.sort()\n",
    "    for i in range(0, len(number)) :\n",
    "        order = number[i]\n",
    "        print(order, end = ' ')\n",
    "\n",
    "numbers = [77, 36, 29, 11, 20, 6, 91, 33]\n",
    "ascending_order(numbers)"
   ]
  }
 ],
 "metadata": {
  "kernelspec": {
   "display_name": "Python 3",
   "language": "python",
   "name": "python3"
  },
  "language_info": {
   "codemirror_mode": {
    "name": "ipython",
    "version": 3
   },
   "file_extension": ".py",
   "mimetype": "text/x-python",
   "name": "python",
   "nbconvert_exporter": "python",
   "pygments_lexer": "ipython3",
   "version": "3.7.6"
  }
 },
 "nbformat": 4,
 "nbformat_minor": 4
}
