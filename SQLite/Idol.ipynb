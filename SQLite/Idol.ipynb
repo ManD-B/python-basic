{
 "cells": [
  {
   "cell_type": "markdown",
   "metadata": {},
   "source": [
    "# 아이돌 전적검색"
   ]
  },
  {
   "cell_type": "code",
   "execution_count": 1,
   "metadata": {},
   "outputs": [],
   "source": [
    "import sqlite3"
   ]
  },
  {
   "cell_type": "code",
   "execution_count": 2,
   "metadata": {},
   "outputs": [],
   "source": [
    "conn = sqlite3.connect('./Idol.db')"
   ]
  },
  {
   "cell_type": "code",
   "execution_count": 3,
   "metadata": {},
   "outputs": [
    {
     "data": {
      "text/plain": [
       "<sqlite3.Cursor at 0x23b07bf8260>"
      ]
     },
     "execution_count": 3,
     "metadata": {},
     "output_type": "execute_result"
    }
   ],
   "source": [
    "cur = conn.cursor()\n",
    "cur.execute('CREATE TABLE IF NOT EXISTS Idol_Table\\\n",
    "        (id INT NOT NULL, \\\n",
    "        name TEXT, \\\n",
    "        member_no INT NOT NULL, \\\n",
    "        debut TEXT, \\\n",
    "        company TEXT, \\\n",
    "        PRIMARY KEY(id));')\n"
   ]
  },
  {
   "cell_type": "code",
   "execution_count": 4,
   "metadata": {},
   "outputs": [],
   "source": [
    "# 튜플 리스트 사용 **************************************\n",
    "sql = \"INSERT INTO Idol_Table(id,name,member_no,debut,company) VALUES(?,?,?,?,?)\"\n",
    "players = [(1, '방탄소년단',7,'2013-06-13','빅히트 엔터'),\n",
    "           (2, '마마무',4,'2014-06-19','RBW'),\n",
    "          (3, '우주소녀',13,'2016-02-25','스타쉽 엔터'),\n",
    "          (4, '블락비',7,'2011-04-15','KQ 엔터'),\n",
    "          (5, '엑소',9,'2012-04-08','SM 엔터'),\n",
    "          (6, '트와이스',9,'2015-10-20','JYP 엔터')]\n",
    "for player in players:\n",
    "    cur.execute(sql, player)\n",
    "conn.commit()"
   ]
  },
  {
   "cell_type": "code",
   "execution_count": 5,
   "metadata": {},
   "outputs": [
    {
     "data": {
      "text/plain": [
       "<sqlite3.Cursor at 0x23b07bf8730>"
      ]
     },
     "execution_count": 5,
     "metadata": {},
     "output_type": "execute_result"
    }
   ],
   "source": [
    "cur = conn.cursor()\n",
    "cur.execute('CREATE TABLE IF NOT EXISTS Song_Table\\\n",
    "        (song_id INT NOT NULL, \\\n",
    "        song TEXT, \\\n",
    "        gid INT NOT NULL, \\\n",
    "        year TEXT, \\\n",
    "        composer TEXT, \\\n",
    "        lyrics TEXT, \\\n",
    "        PRIMARY KEY(song_id));')"
   ]
  },
  {
   "cell_type": "code",
   "execution_count": 6,
   "metadata": {},
   "outputs": [],
   "source": [
    "sql = \"INSERT INTO Song_Table(song_id,song,gid,year,composer,lyrics) VALUES(?,?,?,?,?,?)\"\n",
    "players = [(1, '작은 것들을 위한 시',1,'2019','Pdogg 외','모든 게 궁금해 How’s your day'),\n",
    "           (2, 'FAKE LOVE',1,'2018','Pdogg 외','널 위해서라면 난 슬퍼도 기쁜 척 할 수가 있었어'),\n",
    "          (3, '넌 is 뭔들',2,'2016','김도훈 외','Hey 거기 미소가 예쁜 남자 바로 너'),\n",
    "          (4, '음오아예 (Um Oh Ah Yeh)',2,'2015','김도훈','oh yes 음 오 아 예 너에게 빠져들겠어 자꾸 반응하잖아'),\n",
    "          (5, 'HER',4,'2014','지코 외','Jesus 무슨 말이 필요해 모두 널 작품이라고 불러'),\n",
    "          (6, '으르렁',5,'2013','신혁 외','나 으르렁 으르렁 으르렁 대 나 으르렁 으르렁 으르렁 대'),\n",
    "          (7, 'MAMA',5,'2012','유영진','Careless careless Shoot anonymous anonymous'),\n",
    "          (8, 'CHEER UP',6,'2016','블랙아이드필승 외','CHEER UP BABY CHEER UP BABY 좀 더 힘을 내'),\n",
    "          (9, 'TT',6,'2016','블랙아이드필승 외','이런 내 맘 모르고 너무해 너무해'),\n",
    "          (10, '빨간 맛',11,'2017','Ludwig Lindell 외','빨간 맛 궁금해 Honey 깨물면 점점 녹아든 스트로베리 그 맛')]\n",
    "for player in players:\n",
    "    cur.execute(sql, player)\n",
    "conn.commit()"
   ]
  },
  {
   "cell_type": "code",
   "execution_count": 15,
   "metadata": {},
   "outputs": [
    {
     "data": {
      "text/plain": [
       "[('방탄소년단', 7, '2013-06-13', '작은 것들을 위한 시', '2019'),\n",
       " ('방탄소년단', 7, '2013-06-13', 'FAKE LOVE', '2018'),\n",
       " ('마마무', 4, '2014-06-19', '넌 is 뭔들', '2016'),\n",
       " ('마마무', 4, '2014-06-19', '음오아예 (Um Oh Ah Yeh)', '2015'),\n",
       " ('블락비', 7, '2011-04-15', 'HER', '2014'),\n",
       " ('엑소', 9, '2012-04-08', '으르렁', '2013'),\n",
       " ('엑소', 9, '2012-04-08', 'MAMA', '2012'),\n",
       " ('트와이스', 9, '2015-10-20', 'CHEER UP', '2016'),\n",
       " ('트와이스', 9, '2015-10-20', 'TT', '2016')]"
      ]
     },
     "execution_count": 15,
     "metadata": {},
     "output_type": "execute_result"
    }
   ],
   "source": [
    "sql = \"SELECT Idol_Table.name, Idol_Table.member_no, Idol_Table.debut, Song_Table.song, Song_Table.year FROM Song_Table INNER JOIN Idol_Table ON Song_Table.gid = Idol_Table.id\";\n",
    "cur.execute(sql)\n",
    "results = cur.fetchall()\n",
    "results"
   ]
  },
  {
   "cell_type": "code",
   "execution_count": 16,
   "metadata": {},
   "outputs": [],
   "source": [
    "import pandas as pd"
   ]
  },
  {
   "cell_type": "code",
   "execution_count": 23,
   "metadata": {},
   "outputs": [
    {
     "data": {
      "text/html": [
       "<div>\n",
       "<style scoped>\n",
       "    .dataframe tbody tr th:only-of-type {\n",
       "        vertical-align: middle;\n",
       "    }\n",
       "\n",
       "    .dataframe tbody tr th {\n",
       "        vertical-align: top;\n",
       "    }\n",
       "\n",
       "    .dataframe thead th {\n",
       "        text-align: right;\n",
       "    }\n",
       "</style>\n",
       "<table border=\"1\" class=\"dataframe\">\n",
       "  <thead>\n",
       "    <tr style=\"text-align: right;\">\n",
       "      <th></th>\n",
       "      <th>그룹 이름</th>\n",
       "      <th>구성원 수</th>\n",
       "      <th>데뷔 일자</th>\n",
       "      <th>노래 이름</th>\n",
       "      <th>발표 년도</th>\n",
       "    </tr>\n",
       "  </thead>\n",
       "  <tbody>\n",
       "    <tr>\n",
       "      <th>0</th>\n",
       "      <td>방탄소년단</td>\n",
       "      <td>7</td>\n",
       "      <td>2013-06-13</td>\n",
       "      <td>작은 것들을 위한 시</td>\n",
       "      <td>2019</td>\n",
       "    </tr>\n",
       "    <tr>\n",
       "      <th>1</th>\n",
       "      <td>방탄소년단</td>\n",
       "      <td>7</td>\n",
       "      <td>2013-06-13</td>\n",
       "      <td>FAKE LOVE</td>\n",
       "      <td>2018</td>\n",
       "    </tr>\n",
       "    <tr>\n",
       "      <th>2</th>\n",
       "      <td>마마무</td>\n",
       "      <td>4</td>\n",
       "      <td>2014-06-19</td>\n",
       "      <td>넌 is 뭔들</td>\n",
       "      <td>2016</td>\n",
       "    </tr>\n",
       "    <tr>\n",
       "      <th>3</th>\n",
       "      <td>마마무</td>\n",
       "      <td>4</td>\n",
       "      <td>2014-06-19</td>\n",
       "      <td>음오아예 (Um Oh Ah Yeh)</td>\n",
       "      <td>2015</td>\n",
       "    </tr>\n",
       "    <tr>\n",
       "      <th>4</th>\n",
       "      <td>블락비</td>\n",
       "      <td>7</td>\n",
       "      <td>2011-04-15</td>\n",
       "      <td>HER</td>\n",
       "      <td>2014</td>\n",
       "    </tr>\n",
       "    <tr>\n",
       "      <th>5</th>\n",
       "      <td>엑소</td>\n",
       "      <td>9</td>\n",
       "      <td>2012-04-08</td>\n",
       "      <td>으르렁</td>\n",
       "      <td>2013</td>\n",
       "    </tr>\n",
       "    <tr>\n",
       "      <th>6</th>\n",
       "      <td>엑소</td>\n",
       "      <td>9</td>\n",
       "      <td>2012-04-08</td>\n",
       "      <td>MAMA</td>\n",
       "      <td>2012</td>\n",
       "    </tr>\n",
       "    <tr>\n",
       "      <th>7</th>\n",
       "      <td>트와이스</td>\n",
       "      <td>9</td>\n",
       "      <td>2015-10-20</td>\n",
       "      <td>CHEER UP</td>\n",
       "      <td>2016</td>\n",
       "    </tr>\n",
       "    <tr>\n",
       "      <th>8</th>\n",
       "      <td>트와이스</td>\n",
       "      <td>9</td>\n",
       "      <td>2015-10-20</td>\n",
       "      <td>TT</td>\n",
       "      <td>2016</td>\n",
       "    </tr>\n",
       "  </tbody>\n",
       "</table>\n",
       "</div>"
      ],
      "text/plain": [
       "   그룹 이름  구성원 수       데뷔 일자                노래 이름 발표 년도\n",
       "0  방탄소년단      7  2013-06-13          작은 것들을 위한 시  2019\n",
       "1  방탄소년단      7  2013-06-13            FAKE LOVE  2018\n",
       "2    마마무      4  2014-06-19              넌 is 뭔들  2016\n",
       "3    마마무      4  2014-06-19  음오아예 (Um Oh Ah Yeh)  2015\n",
       "4    블락비      7  2011-04-15                  HER  2014\n",
       "5     엑소      9  2012-04-08                  으르렁  2013\n",
       "6     엑소      9  2012-04-08                 MAMA  2012\n",
       "7   트와이스      9  2015-10-20             CHEER UP  2016\n",
       "8   트와이스      9  2015-10-20                   TT  2016"
      ]
     },
     "execution_count": 23,
     "metadata": {},
     "output_type": "execute_result"
    }
   ],
   "source": [
    "df = pd.DataFrame(results, columns = ['그룹 이름', '구성원 수', '데뷔 일자', '노래 이름', '발표 년도'])\n",
    "df"
   ]
  }
 ],
 "metadata": {
  "kernelspec": {
   "display_name": "Python 3",
   "language": "python",
   "name": "python3"
  },
  "language_info": {
   "codemirror_mode": {
    "name": "ipython",
    "version": 3
   },
   "file_extension": ".py",
   "mimetype": "text/x-python",
   "name": "python",
   "nbconvert_exporter": "python",
   "pygments_lexer": "ipython3",
   "version": "3.7.6"
  }
 },
 "nbformat": 4,
 "nbformat_minor": 4
}
