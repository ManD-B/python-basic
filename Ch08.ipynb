{
 "cells": [
  {
   "cell_type": "code",
   "execution_count": 8,
   "metadata": {},
   "outputs": [
    {
     "name": "stdout",
     "output_type": "stream",
     "text": [
      "안지수님 안녕하세요.\n",
      "홍지영님 안녕하세요.\n",
      "황예림님 안녕하세요.\n"
     ]
    }
   ],
   "source": [
    "# ex 8-2\n",
    "import greet\n",
    "\n",
    "print(greet.hello1('안지수'))\n",
    "print(greet.hello2('홍지영'))\n",
    "print(greet.hello3('황예림'))"
   ]
  },
  {
   "cell_type": "code",
   "execution_count": 9,
   "metadata": {},
   "outputs": [
    {
     "name": "stdout",
     "output_type": "stream",
     "text": [
      "김영진님 안녕하세요.\n",
      "10.0\n",
      "박소정님 안녕하세요.\n",
      "10.0\n",
      "한은정님 안녕하세요.\n",
      "10.0\n",
      "한은정님 안녕하세요.\n",
      "0.8414709848078965\n"
     ]
    }
   ],
   "source": [
    "# ex 8-3\n",
    "import greet\n",
    "import math\n",
    "print(greet.hello1('김영진'))\n",
    "print(math.sqrt(100))\n",
    "\n",
    "import greet as gr\n",
    "import math as m\n",
    "print(gr.hello2('박소정'))\n",
    "print(m.sqrt(100))\n",
    "\n",
    "from greet import hello3\n",
    "from math import sqrt\n",
    "print(hello3('한은정'))\n",
    "print(sqrt(100))\n",
    "\n",
    "from greet import *\n",
    "from math import *\n",
    "print(hello2('한은정'))\n",
    "print(sin(1))"
   ]
  },
  {
   "cell_type": "code",
   "execution_count": 17,
   "metadata": {},
   "outputs": [
    {
     "name": "stdout",
     "output_type": "stream",
     "text": [
      "floor(7.7) : 7\n",
      "ceil(10.1) : 11\n",
      "round(8.6) : 9\n",
      "5의 펙토리알 : 120\n"
     ]
    }
   ],
   "source": [
    "# ex 8-4\n",
    "import math\n",
    "\n",
    "print('floor(7.7) : %d' % math.floor(7.7))     # 소수점 이하 절삭\n",
    "print('ceil(10.1) : %d' % math.ceil(10.1))     # 무조건 반올림한 값\n",
    "print('round(8.6) : %d' % round(8.6))          # math모듈 아님 반올림값\n",
    "print('5의 펙토리알 : %d' % math.factorial(5)) # 팩토리얼 값\n"
   ]
  },
  {
   "cell_type": "code",
   "execution_count": 42,
   "metadata": {},
   "outputs": [
    {
     "data": {
      "text/plain": [
       "True"
      ]
     },
     "execution_count": 42,
     "metadata": {},
     "output_type": "execute_result"
    }
   ],
   "source": [
    "def facto(n) :\n",
    "    if n == 0 :\n",
    "        return 1\n",
    "    return n != facto(n - 1)\n",
    "facto(5)"
   ]
  },
  {
   "cell_type": "code",
   "execution_count": 28,
   "metadata": {},
   "outputs": [],
   "source": [
    "def fibo(n) :\n",
    "    if n == 1 or n == 2:\n",
    "        return 1\n",
    "    return fibo(n - 1) + fibo(n - 2)"
   ]
  },
  {
   "cell_type": "code",
   "execution_count": 30,
   "metadata": {},
   "outputs": [
    {
     "name": "stdout",
     "output_type": "stream",
     "text": [
      "1, 1, 2, 3, 5, 8, 13, 21, 34, 55, 89, 144, 233, 377, 610, 987, 1597, 2584, 4181, "
     ]
    }
   ],
   "source": [
    "for i in range(1, 20) :\n",
    "    print(fibo(i), end = ', ')"
   ]
  },
  {
   "cell_type": "code",
   "execution_count": 14,
   "metadata": {},
   "outputs": [
    {
     "name": "stdout",
     "output_type": "stream",
     "text": [
      "sin(pi/2) : 1.00\n",
      "cos(pi) : -1.00\n",
      "tan(pi*2) : -0.00\n",
      "2의 4승 : 16\n",
      "49의 제곱근 : 7\n",
      "log10(100) : 2.00\n"
     ]
    }
   ],
   "source": [
    "# ex 8-5\n",
    "import math as m\n",
    "\n",
    "print('sin(pi/2) : %.2f' % m.sin(m.pi/2))\n",
    "print('cos(pi) : %.2f' % m.cos(m.pi))\n",
    "print('tan(pi*2) : %.2f' % m.tan(m.pi*2))\n",
    "\n",
    "print('2의 4승 : %d' % m.pow(2,4))\n",
    "print('49의 제곱근 : %d' % m.sqrt(49))\n",
    "print('log10(100) : %.2f' % m.log10(100))\n"
   ]
  },
  {
   "cell_type": "code",
   "execution_count": 12,
   "metadata": {},
   "outputs": [
    {
     "name": "stdout",
     "output_type": "stream",
     "text": [
      "0.6609585931047136\n",
      "0.3834953579753131\n",
      "0.2750009648111804\n"
     ]
    }
   ],
   "source": [
    "# ex 8-6\n",
    "import random \n",
    "\n",
    "for i in range(3) :\n",
    "    print(random.random())"
   ]
  },
  {
   "cell_type": "code",
   "execution_count": 15,
   "metadata": {},
   "outputs": [
    {
     "name": "stdout",
     "output_type": "stream",
     "text": [
      "9\n",
      "9\n",
      "5\n",
      "5\n",
      "3\n"
     ]
    }
   ],
   "source": [
    "# ex 8-7\n",
    "import random\n",
    "\n",
    "for i in range(5) :\n",
    "    print(random.randrange(1, 11, 2))"
   ]
  },
  {
   "cell_type": "code",
   "execution_count": 16,
   "metadata": {},
   "outputs": [
    {
     "name": "stdout",
     "output_type": "stream",
     "text": [
      "4\n",
      "5\n",
      "5\n",
      "4\n",
      "1\n"
     ]
    }
   ],
   "source": [
    "# ex 8-8\n",
    "import random\n",
    "\n",
    "for i in range(5) :\n",
    "    print(random.randint(1, 6))"
   ]
  },
  {
   "cell_type": "code",
   "execution_count": 43,
   "metadata": {},
   "outputs": [
    {
     "name": "stdout",
     "output_type": "stream",
     "text": [
      "보\n",
      "가위\n",
      "가위\n",
      "가위\n",
      "바위\n"
     ]
    }
   ],
   "source": [
    "# ex 8-9\n",
    "import random\n",
    "\n",
    "toss = ['가위', '바위', '보']\n",
    "\n",
    "for i in range(5) :\n",
    "    print(random.choice(toss))"
   ]
  },
  {
   "cell_type": "code",
   "execution_count": null,
   "metadata": {},
   "outputs": [],
   "source": [
    "# ex 8-10\n",
    "import random\n",
    "\n",
    "fruits = ['사과', '바나나', '오렌지']\n",
    "\n",
    "for i in range(3) :\n",
    "    random.shuffle(fruits)\n",
    "    print(fruits)"
   ]
  },
  {
   "cell_type": "code",
   "execution_count": null,
   "metadata": {},
   "outputs": [],
   "source": [
    "import random\n",
    "\n",
    "again = 'y'\n",
    "count = 1\n",
    "\n",
    "while again =='y':\n",
    "    print('-' * 30)\n",
    "    print('주사위 던지기 : %d번째' % count)\n",
    "    me = random.randint(1, 6)\n",
    "    computer = random.randint(1, 6)\n",
    "    print('나 : %d' % me )\n",
    "    print('컴퓨터 : %d' % computer)\n",
    "    \n",
    "    if me > computer :\n",
    "        print('나의 승리!')\n",
    "    elif me == computer :\n",
    "        print('무승부!')\n",
    "    else :\n",
    "        print('컴퓨터의 승리!')\n",
    "    \n",
    "    count = count + 1\n",
    "    again = input('계속하려면 y를 입력하세요!')"
   ]
  },
  {
   "cell_type": "code",
   "execution_count": null,
   "metadata": {},
   "outputs": [],
   "source": [
    "import random\n",
    "\n",
    "def whoWin(x, y) :\n",
    "    if x == '가위' : \n",
    "        if y == '가위' :\n",
    "            msg = '무승부입니다!'\n",
    "        elif y == '바위' :\n",
    "            msg = '당신의 승리입니다!'\n",
    "        else :\n",
    "            msg = '나의 승리입니다!'\n",
    "    elif x == '바위' :\n",
    "        if y == '가위' :\n",
    "            msg = '나의 승리입니다!'\n",
    "        elif y == '바위' :\n",
    "            msg = '무승부입니다!'\n",
    "        else :\n",
    "            msg = '당신의 승리입니다!'\n",
    "    else :\n",
    "        if y == '가위' :\n",
    "            msg = '당신의 승리입니다!'\n",
    "        elif y == '바위' :\n",
    "            msg = '나의 승리입니다!'\n",
    "        else :\n",
    "            msg = '무승부입니다!'\n",
    "\n",
    "    return msg\n",
    "\n",
    "print('=' * 30)\n",
    "print('가위 바위 보 게임')\n",
    "print('=' * 30)\n",
    "\n",
    "gawibawibo = ['가위','바위', '보']\n",
    "again = 'y'\n",
    "\n",
    "while again == 'y' :\n",
    "    me  = random.choice(gawibawibo)\n",
    "    you = random.choice(gawibawibo)\n",
    "\n",
    "    result = whoWin(me, you)\n",
    "\n",
    "    print('나 : %s' % me)\n",
    "    print('당신 : %s' % you)\n",
    "    print(result)\n",
    "    print('-' * 30)\n",
    "    \n",
    "    again = input('계속하려면 y를 입력하세요!')\n",
    "    print()\n"
   ]
  },
  {
   "cell_type": "code",
   "execution_count": null,
   "metadata": {},
   "outputs": [],
   "source": []
  }
 ],
 "metadata": {
  "kernelspec": {
   "display_name": "Python 3",
   "language": "python",
   "name": "python3"
  },
  "language_info": {
   "codemirror_mode": {
    "name": "ipython",
    "version": 3
   },
   "file_extension": ".py",
   "mimetype": "text/x-python",
   "name": "python",
   "nbconvert_exporter": "python",
   "pygments_lexer": "ipython3",
   "version": "3.7.6"
  }
 },
 "nbformat": 4,
 "nbformat_minor": 4
}
