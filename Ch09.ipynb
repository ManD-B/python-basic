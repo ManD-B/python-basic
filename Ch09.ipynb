{
 "cells": [
  {
   "cell_type": "code",
   "execution_count": 1,
   "metadata": {},
   "outputs": [
    {
     "name": "stdout",
     "output_type": "stream",
     "text": [
      "10 + 20 = 30\n",
      "100 + 200 = 300\n"
     ]
    }
   ],
   "source": [
    "# ex 9-1\n",
    "class Calculator :\n",
    "    def set(self, x, y) :\n",
    "        self.first = x\n",
    "        self.second = y\n",
    "    \n",
    "    def add(self) :\n",
    "        result = self.first + self.second\n",
    "        return result\n",
    "    \n",
    "cal1 = Calculator()\n",
    "   \n",
    "cal1.set(10, 20)\n",
    "print('%d + %d = %d' % (cal1.first, cal1.second, cal1.add()))\n",
    "cal1.set(100, 200)\n",
    "print('%d + %d = %d' % (cal1.first, cal1.second, cal1.add()))"
   ]
  },
  {
   "cell_type": "code",
   "execution_count": 3,
   "metadata": {},
   "outputs": [
    {
     "name": "stdout",
     "output_type": "stream",
     "text": [
      "이름 : 홍지수\n",
      "나이 : 24\n",
      "이름 : 안지영\n",
      "나이 : 20\n"
     ]
    }
   ],
   "source": [
    "# ex 9-2\n",
    "class Member :\n",
    "    def __init__(self, name, age) :\n",
    "        self.name = name\n",
    "        self.age = age\n",
    "\n",
    "    def showMember(self) :\n",
    "        print('이름 : %s' % self.name)\n",
    "        print('나이 : %d' % self.age)\n",
    "        \n",
    "mem1 = Member('홍지수', 24)\n",
    "mem1.showMember()\n",
    "mem2 = Member('안지영', 20)\n",
    "mem2.showMember()"
   ]
  },
  {
   "cell_type": "code",
   "execution_count": 6,
   "metadata": {},
   "outputs": [
    {
     "name": "stdout",
     "output_type": "stream",
     "text": [
      "110\n",
      "130\n"
     ]
    }
   ],
   "source": [
    "# ex 9-3\n",
    "class MyClass :\n",
    "    number = 100     # 클래스 속성\n",
    "  \n",
    "    def inc_10(self): \n",
    "        MyClass.number += 10\n",
    "  \n",
    "    def inc_20(self): \n",
    "        MyClass.number += 20\n",
    "        \n",
    "obj1 = MyClass() \n",
    "obj1.inc_10()         \n",
    "print(obj1.number)\n",
    "  \n",
    "obj2 = MyClass() \n",
    "obj2.inc_20()         \n",
    "print(obj2.number)"
   ]
  },
  {
   "cell_type": "code",
   "execution_count": 7,
   "metadata": {},
   "outputs": [
    {
     "name": "stdout",
     "output_type": "stream",
     "text": [
      "130\n",
      "230\n"
     ]
    }
   ],
   "source": [
    "# ex 9-4\n",
    "class MyClass :\n",
    "    def __init__(self, number) :\n",
    "        self.number = number     # 인스턴스 속성\n",
    "        \n",
    "    def inc_10(self): \n",
    "        self.number += 10\n",
    "  \n",
    "    def inc_20(self): \n",
    "        self.number += 20\n",
    "        \n",
    "obj1 = MyClass(100) \n",
    "obj1.inc_10()         \n",
    "obj1.inc_20()\n",
    "print(obj1.number)\n",
    "  \n",
    "obj2 = MyClass(200) \n",
    "obj2.inc_10()     \n",
    "obj2.inc_20() \n",
    "print(obj2.number)"
   ]
  },
  {
   "cell_type": "code",
   "execution_count": 10,
   "metadata": {},
   "outputs": [
    {
     "name": "stdout",
     "output_type": "stream",
     "text": [
      "반지름: 10\n",
      "원의 면적 : 314.16\n",
      "원주의 길이 : 62.83\n"
     ]
    }
   ],
   "source": [
    "# Q-1\n",
    "import math\n",
    "\n",
    "class Circle :\n",
    "    def __init__(self, radius) :\n",
    "        self.radius = radius\n",
    "    \n",
    "    def getArea(self) :\n",
    "        area = math.pi * self.radius * self.radius\n",
    "        return area\n",
    "\n",
    "    def getCircum(self) :\n",
    "        circum = 2 * 3.141592 * self.radius\n",
    "        return circum\n",
    "        \n",
    "cir = Circle(10)\n",
    "\n",
    "print('반지름: %d' % cir.radius)\n",
    "print('원의 면적 : %.2f' % cir.getArea())\n",
    "print('원주의 길이 : %.2f' % cir.getCircum())"
   ]
  },
  {
   "cell_type": "code",
   "execution_count": 11,
   "metadata": {},
   "outputs": [
    {
     "name": "stdout",
     "output_type": "stream",
     "text": [
      "- 3과목 합계와 평균\n",
      "이름 : 김성윤\n",
      "국어 : 85, 영어 : 90, 수학 : 83\n",
      "합계 : 258, 평균 : 86.0\n"
     ]
    }
   ],
   "source": [
    "# Q-2\n",
    "class SumAvg :\n",
    "    title = '- 3과목 합계와 평균'\n",
    "    def __init__(self, name, kor, eng, math) : \n",
    "        self.name = name\n",
    "        self.kor = kor\n",
    "        self.eng = eng\n",
    "        self.math = math\n",
    "    \n",
    "    def getSum(self) :\n",
    "        sum = self.kor + self.eng + self.math\n",
    "        return sum\n",
    "\n",
    "s1 = SumAvg('김성윤', 85, 90, 83)\n",
    "\n",
    "print(SumAvg.title)\n",
    "print('이름 : %s' % s1.name)\n",
    "print('국어 : %d, 영어 : %d, 수학 : %d' % (s1.kor, s1.eng, s1.math))\n",
    "print('합계 : %d, 평균 : %.1f' % (s1.getSum(), s1.getSum()/3))"
   ]
  },
  {
   "cell_type": "code",
   "execution_count": 12,
   "metadata": {},
   "outputs": [
    {
     "name": "stdout",
     "output_type": "stream",
     "text": [
      "첫번째 수를 입력하세요 : 10\n",
      "두번째 수를 입력하세요 : 20\n",
      "10 - 20 = -10\n",
      "10 / 20 = 0.5\n"
     ]
    }
   ],
   "source": [
    "# Q-3\n",
    "class Calculator :\n",
    "    def __init__(self, num1, num2) :\n",
    "        self.num1 = num1\n",
    "        self.num2 = num2\n",
    "    \n",
    "    def add(self) :\n",
    "        return self.num1 + self.num2\n",
    "    def sub(self) :\n",
    "        return self.num1 - self.num2\n",
    "    def mul(self) :\n",
    "        return self.num1 * self.num2\n",
    "    def div(self) :\n",
    "        return self.num1 / self.num2\n",
    "\n",
    "a = int(input('첫번째 수를 입력하세요 : '))\n",
    "b = int(input('두번째 수를 입력하세요 : '))\n",
    "\n",
    "cal1 = Calculator(a, b)\n",
    "print('%d - %d = %d' % (a, b, cal1.sub()))\n",
    "print('%d / %d = %.1f' % (a, b, cal1.div()))"
   ]
  },
  {
   "cell_type": "code",
   "execution_count": 13,
   "metadata": {},
   "outputs": [
    {
     "name": "stdout",
     "output_type": "stream",
     "text": [
      "성명 : 김지혜\n",
      "이메일 : rubato@hanmail.net\n",
      "전화번호 : 010-1234-4567\n"
     ]
    }
   ],
   "source": [
    "# Q-4\n",
    "class Person :\n",
    "    def __init__(self, info) :\n",
    "        self.info = info\n",
    "    \n",
    "    def getName(self) :\n",
    "        return self.info[0]\n",
    "\n",
    "    def getEmail(self) :\n",
    "        return self.info[1]\n",
    "    \n",
    "    def getPhoneNum(self) :\n",
    "        return self.info[2]\n",
    "\n",
    "info = ['김지혜', 'rubato@hanmail.net', '010-1234-4567']\n",
    "person = Person(info)\n",
    "\n",
    "print('성명 : %s' % person.getName())\n",
    "print('이메일 : %s' % person.getEmail())\n",
    "print('전화번호 : %s' % person.getPhoneNum())"
   ]
  },
  {
   "cell_type": "code",
   "execution_count": 14,
   "metadata": {},
   "outputs": [
    {
     "name": "stdout",
     "output_type": "stream",
     "text": [
      "역순 : !snoipmahc eht era eW\n",
      "하이픈(-) 삽입 : We-are-the-champions!\n"
     ]
    }
   ],
   "source": [
    "# Q-5\n",
    "class EngSentence :\n",
    "    def __init__(self, sentence) :\n",
    "        self.sentence = sentence\n",
    "        self.length = len(self.sentence)\n",
    "    \n",
    "    def reverse(self) :\n",
    "        tmp = ''\n",
    "        for i in range(self.length) :\n",
    "            tmp += (self.sentence[self.length-1 -i])\n",
    "        return tmp\n",
    "    \n",
    "    def insertHypen(self) :\n",
    "        tmp = ''\n",
    "        for i in range(self.length) :\n",
    "            if self.sentence[i] == ' ' :\n",
    "                tmp += '-'\n",
    "            else :\n",
    "                tmp += self.sentence[i]\n",
    "        return tmp\n",
    "        \n",
    "a = 'We are the champions!'\n",
    "eng1 = EngSentence(a)\n",
    "print('역순 : %s' % eng1.reverse())\n",
    "print('하이픈(-) 삽입 : %s' % eng1.insertHypen())"
   ]
  },
  {
   "cell_type": "code",
   "execution_count": 8,
   "metadata": {},
   "outputs": [
    {
     "name": "stdout",
     "output_type": "stream",
     "text": [
      "행복이\n",
      "멍멍~~~\n"
     ]
    }
   ],
   "source": [
    "# ex 9-5\n",
    "class Animal:\n",
    "    def __init__(self, name):\n",
    "        self.name = name\n",
    "\n",
    "    def printName(self):\n",
    "        print(self.name)\n",
    "        \n",
    "class Dog(Animal):\n",
    "    def __init__(self, name, sound):\n",
    "        super().__init__(name)\n",
    "        self.sound = sound\n",
    "        \n",
    "    def printSound(self):\n",
    "        print(self.sound)\n",
    "\n",
    "dog1 = Dog('행복이', '멍멍~~~')\n",
    "dog1.printName()\n",
    "dog1.printSound()"
   ]
  },
  {
   "cell_type": "code",
   "execution_count": 9,
   "metadata": {},
   "outputs": [
    {
     "name": "stdout",
     "output_type": "stream",
     "text": [
      "이름:홍지수, 나이:20\n",
      "홍지수, 20\n",
      "홍지수님의 학과:소프트웨어공학과, 학번:20215550001\n"
     ]
    }
   ],
   "source": [
    "# ex 9-6\n",
    "class Person:\n",
    "    def __init__(self, name, age):\n",
    "        self.name = name\n",
    "        self.age = age\n",
    "\n",
    "    def printInfo(self):\n",
    "        print('이름:%s, 나이:%d' % (self.name, self.age))\n",
    "        \n",
    "    def getInfo(self) :\n",
    "        return self.name + ', ' + str(self.age)\n",
    "        \n",
    "class Student(Person):\n",
    "    def __init__(self, name, age, department, id):\n",
    "        super().__init__(name, age)\n",
    "        self.department = department\n",
    "        self.id = id\n",
    "        \n",
    "    def printStudentInfo(self):\n",
    "        name_age = super().getInfo()\n",
    "        print(name_age)\n",
    "        print('%s님의 학과:%s, 학번:%s' % (self.name, self.department, self.id))\n",
    "\n",
    "x = Student('홍지수', 20, '소프트웨어공학과', '20215550001')\n",
    "x.printInfo()\n",
    "x.printStudentInfo()"
   ]
  }
 ],
 "metadata": {
  "kernelspec": {
   "display_name": "Python 3",
   "language": "python",
   "name": "python3"
  },
  "language_info": {
   "codemirror_mode": {
    "name": "ipython",
    "version": 3
   },
   "file_extension": ".py",
   "mimetype": "text/x-python",
   "name": "python",
   "nbconvert_exporter": "python",
   "pygments_lexer": "ipython3",
   "version": "3.7.6"
  }
 },
 "nbformat": 4,
 "nbformat_minor": 4
}
