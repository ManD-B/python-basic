{
 "cells": [
  {
   "cell_type": "markdown",
   "metadata": {},
   "source": [
    "# Chapter 03. 조건문"
   ]
  },
  {
   "cell_type": "code",
   "execution_count": 8,
   "metadata": {},
   "outputs": [
    {
     "name": "stdout",
     "output_type": "stream",
     "text": [
      "숫자를 입력하세요 : 5\n",
      "양수\n"
     ]
    }
   ],
   "source": [
    "# ex 3-1\n",
    "x = int(input('숫자를 입력하세요 : '))\n",
    "\n",
    "if x > 0 :\n",
    "    print('양수')\n",
    "else :\n",
    "    print('0')"
   ]
  },
  {
   "cell_type": "code",
   "execution_count": 10,
   "metadata": {},
   "outputs": [
    {
     "name": "stdout",
     "output_type": "stream",
     "text": [
      "숫자를 입력하세요 : 0\n",
      "0\n"
     ]
    }
   ],
   "source": [
    "x = int(input('숫자를 입력하세요 : '))\n",
    "\n",
    "if x > 0 :\n",
    "    print('양수')\n",
    "else :\n",
    "    if x < 0:\n",
    "        print('음수')\n",
    "    else:\n",
    "        print('0')"
   ]
  },
  {
   "cell_type": "code",
   "execution_count": 3,
   "metadata": {},
   "outputs": [
    {
     "name": "stdout",
     "output_type": "stream",
     "text": [
      "True\n",
      "True\n",
      "True\n",
      "True\n",
      "False\n",
      "False\n",
      "False\n"
     ]
    }
   ],
   "source": [
    "# ex 3-2\n",
    "x = 10\n",
    "y = 3\n",
    "\n",
    "print(x > 9)                # x가 9보다 큰가?\n",
    "print(y <= 10)              # y가 10보다 작거나  같은가?\n",
    "print(x + y == 13)          # x + y가  13과  같은가?\n",
    "print(x % 2 == 0)           # x를 2로 나눈 나머지가 0인가? 즉, 짝수인가?\n",
    "print(y % 2 == 0)           # y를 2로 나눈 나머지가 0인가? 즉, 짝수인가?\n",
    "print(x % 4 == 0)           # x가 4의 배수인가?\n",
    "print(y % 3 != 0)           # y는 3의 배수가 아닌가?"
   ]
  },
  {
   "cell_type": "code",
   "execution_count": 12,
   "metadata": {},
   "outputs": [
    {
     "name": "stdout",
     "output_type": "stream",
     "text": [
      "숫자를 입력하세요 : 35\n",
      "홀수이다.\n"
     ]
    }
   ],
   "source": [
    "# ex 3-3\n",
    "num = int(input('숫자를 입력하세요 : '))\n",
    "\n",
    "if num % 2 == 0 :\n",
    "    print('짝수이다.')\n",
    "else :\n",
    "    print('홀수이다.')"
   ]
  },
  {
   "cell_type": "code",
   "execution_count": 14,
   "metadata": {},
   "outputs": [
    {
     "name": "stdout",
     "output_type": "stream",
     "text": [
      "필기성적을 입력하세요 : 75\n",
      "실기성적을 입력하세요 : 95\n",
      "불합격!\n"
     ]
    }
   ],
   "source": [
    "# ex 3-4\n",
    "score1 = int(input('필기성적을 입력하세요 : '))\n",
    "score2 = int(input('실기성적을 입력하세요 : '))\n",
    "\n",
    "if score1 >= 80 and score2 >= 80 :\n",
    "    print('합격!')\n",
    "else :\n",
    "    print('불합격!')"
   ]
  },
  {
   "cell_type": "code",
   "execution_count": 17,
   "metadata": {},
   "outputs": [
    {
     "name": "stdout",
     "output_type": "stream",
     "text": [
      "아이디를 입력하세요 : ocella\n",
      "회원 레벨을 입력하세요 : 7\n",
      "관리자가 아니다.\n"
     ]
    }
   ],
   "source": [
    "# ex 3-5\n",
    "id = input('아이디를 입력하세요 : ')\n",
    "level = int(input('회원 레벨을 입력하세요 : '))\n",
    "\n",
    "if id == 'admin' or level == 1 :\n",
    "    print('관리자이다.')\n",
    "else :\n",
    "    print('관리자가 아니다.')"
   ]
  },
  {
   "cell_type": "code",
   "execution_count": 19,
   "metadata": {},
   "outputs": [
    {
     "name": "stdout",
     "output_type": "stream",
     "text": [
      "이름을 입력하세요 : 임해찬\n",
      "이름 : 임해찬\n"
     ]
    }
   ],
   "source": [
    "# ex 3-6\n",
    "name = input('이름을 입력하세요 : ')\n",
    "\n",
    "if not name :\n",
    "    print('이름이 입력되지 않았다.')\n",
    "else :\n",
    "    print('이름 : %s' % name)"
   ]
  },
  {
   "cell_type": "code",
   "execution_count": 25,
   "metadata": {},
   "outputs": [
    {
     "name": "stdout",
     "output_type": "stream",
     "text": [
      "False\n"
     ]
    }
   ],
   "source": [
    "t = ''   # 0, 0.0, None 은 False, 그외는 True\n",
    "if t:\n",
    "    print('True')\n",
    "else:\n",
    "    print('False')"
   ]
  },
  {
   "cell_type": "code",
   "execution_count": 26,
   "metadata": {},
   "outputs": [
    {
     "name": "stdout",
     "output_type": "stream",
     "text": [
      "1\n"
     ]
    }
   ],
   "source": [
    "sum = 0\n",
    "sum += True\n",
    "print(sum)"
   ]
  },
  {
   "cell_type": "code",
   "execution_count": 20,
   "metadata": {},
   "outputs": [
    {
     "name": "stdout",
     "output_type": "stream",
     "text": [
      "False\n",
      "False\n",
      "True\n",
      "True\n"
     ]
    }
   ],
   "source": [
    "# ex 3-7\n",
    "print(True) if 0 else print(False)\n",
    "print(True) if None else print(False)\n",
    "print(True) if 15 else print(False)\n",
    "print(True) if '홍길동' else print(False)"
   ]
  },
  {
   "cell_type": "code",
   "execution_count": 29,
   "metadata": {},
   "outputs": [
    {
     "name": "stdout",
     "output_type": "stream",
     "text": [
      "나이를 입력하세요 : 67\n",
      "입장료 : 무료\n"
     ]
    }
   ],
   "source": [
    "# ex 3-8\n",
    "age = int(input('나이를 입력하세요 : '))\n",
    "pay = '3000원'\n",
    "\n",
    "if age >= 65 or age < 7 :\n",
    "    pay = '무료'\n",
    "\n",
    "print('입장료 : %s' % pay)"
   ]
  },
  {
   "cell_type": "code",
   "execution_count": 34,
   "metadata": {},
   "outputs": [
    {
     "name": "stdout",
     "output_type": "stream",
     "text": [
      "나이를 입력하세요 : 6\n",
      "입장료 : 무료\n"
     ]
    }
   ],
   "source": [
    "age = int(input('나이를 입력하세요 : '))\n",
    "\n",
    "if age >= 65 or age < 7 :\n",
    "    pay = '무료'\n",
    "elif age <= 18 :\n",
    "    pay = '1500원'\n",
    "else:\n",
    "    pay = '3000원'\n",
    "print('입장료 : %s' % pay)"
   ]
  },
  {
   "cell_type": "code",
   "execution_count": 37,
   "metadata": {},
   "outputs": [
    {
     "name": "stdout",
     "output_type": "stream",
     "text": [
      "비밀번호를 입력하세요 : 12345\n",
      "비밀번호 OK!\n"
     ]
    }
   ],
   "source": [
    "# ex 3-9\n",
    "answer = '12345'\n",
    "password = input('비밀번호를 입력하세요 : ')\n",
    "\n",
    "if password == answer :\n",
    "    print('비밀번호 OK!')\n",
    "else :\n",
    "    print('비밀번호 Not OK!')"
   ]
  },
  {
   "cell_type": "code",
   "execution_count": 45,
   "metadata": {},
   "outputs": [
    {
     "name": "stdout",
     "output_type": "stream",
     "text": [
      "점수를 입력하세요 : 69\n",
      "성적 : 69점\n",
      "등급 : D\n"
     ]
    }
   ],
   "source": [
    "# ex 3-10\n",
    "score = int(input('점수를 입력하세요 : '))\n",
    "\n",
    "if score >= 90 :\n",
    "    grade = 'A'\n",
    "elif score >= 80 :\n",
    "    grade = 'B'\n",
    "elif score >= 70 :\n",
    "    grade = 'C'\n",
    "elif score >= 60 :\n",
    "    grade = 'D'\n",
    "else :\n",
    "    grade = 'F'\n",
    "\n",
    "print('성적 : %d점' % score)\n",
    "print('등급 : %s' % grade)"
   ]
  }
 ],
 "metadata": {
  "kernelspec": {
   "display_name": "Python 3",
   "language": "python",
   "name": "python3"
  },
  "language_info": {
   "codemirror_mode": {
    "name": "ipython",
    "version": 3
   },
   "file_extension": ".py",
   "mimetype": "text/x-python",
   "name": "python",
   "nbconvert_exporter": "python",
   "pygments_lexer": "ipython3",
   "version": "3.7.6"
  }
 },
 "nbformat": 4,
 "nbformat_minor": 4
}
