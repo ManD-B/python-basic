{
 "cells": [
  {
   "cell_type": "markdown",
   "metadata": {},
   "source": [
    "# 시카고 샌드위치 맛집 분석"
   ]
  },
  {
   "cell_type": "markdown",
   "metadata": {},
   "source": [
    "## 1. 시카고 샌드위치 맛집 사이트에 접근하기"
   ]
  },
  {
   "cell_type": "code",
   "execution_count": 135,
   "metadata": {},
   "outputs": [],
   "source": [
    "from bs4 import BeautifulSoup\n",
    "from urllib.request import urlopen\n",
    "from urllib.parse import urljoin\n",
    "import pandas as pd"
   ]
  },
  {
   "cell_type": "code",
   "execution_count": 136,
   "metadata": {},
   "outputs": [],
   "source": [
    "url = 'https://www.diningcode.com/list.php?query=%EA%B0%88%EB%A7%88%EB%8F%99'\n",
    "page = urlopen(url)\n",
    "\n",
    "soup = BeautifulSoup(page, 'html.parser')"
   ]
  },
  {
   "cell_type": "code",
   "execution_count": 157,
   "metadata": {},
   "outputs": [
    {
     "data": {
      "text/plain": [
       "[<a class=\"blink\" href=\"/profile.php?rid=DUV0AVmvrxOL\" target=\"_blank\">\n",
       " <span class=\"img\" style=\"overflow:hidden; background:url('https://s3-ap-northeast-1.amazonaws.com/dcreviewsresized/300_300_20191027190513_photo1_fc7b092373c7.jpg') no-repeat; background-size:auto 100px; background-position:center;\"></span>\n",
       " <span class=\"btxt\">1. 미스터아구</span>\n",
       " <span class=\"stxt\">아구찜, 해물찜</span>\n",
       " <span class=\"ctxt\">생생정보, 다양한반찬, 회식장소</span>\n",
       " <span class=\"ctxt\"><i class=\"loca\">갈마동</i>대전광역시 서구 갈마2동 1056</span>\n",
       " <span class=\"icons\">\n",
       " </span>\n",
       " </a>,\n",
       " <a class=\"blink\" href=\"/profile.php?rid=YR9fBt0a5T4K\" target=\"_blank\">\n",
       " <span class=\"img\" style=\"overflow:hidden; background:url('https://s3-ap-northeast-1.amazonaws.com/dcreviewsresized/300_300_20190917081207_photo1_3abc17e738cd.jpg') no-repeat; background-size:auto 100px; background-position:center;\"></span>\n",
       " <span class=\"btxt\">2. 륀에이치</span>\n",
       " <span class=\"stxt\">플라워카페, 카페</span>\n",
       " <span class=\"ctxt\">예쁜, 분위기좋은, 데이트</span>\n",
       " <span class=\"ctxt\"><i class=\"loca\">갈마동</i>대전광역시 서구 갈마동 1131-3</span>\n",
       " <span class=\"icons\">\n",
       " </span>\n",
       " </a>,\n",
       " <a class=\"blink\" href=\"/profile.php?rid=6RrqCAYxrDYT\" target=\"_blank\">\n",
       " <span class=\"img\" style=\"overflow:hidden; background:url('https://s3-ap-northeast-1.amazonaws.com/dcreviewsresized/300_300_20190509120111_photo1_oB7Vhsap7vlD.jpg') no-repeat; background-size:auto 100px; background-position:center;\"></span>\n",
       " <span class=\"btxt\">3. 카페 웨이브</span>\n",
       " <span class=\"stxt\">카페, 티라미수</span>\n",
       " <span class=\"ctxt\">예쁜, 분위기좋은, 돌잔치</span>\n",
       " <span class=\"ctxt\"><i class=\"loca\">갈마동</i>대전광역시 서구 갈마동 291-1</span>\n",
       " <span class=\"icons\">\n",
       " </span>\n",
       " </a>,\n",
       " <a class=\"blink\" href=\"/profile.php?rid=3XBvlm8RjRxf\" target=\"_blank\">\n",
       " <span class=\"img\" style=\"overflow:hidden; background:url('https://s3-ap-northeast-1.amazonaws.com/dcreviewsresized/300_300_20200524020146_photo1_c30a52f06d36.jpg') no-repeat; background-size:auto 100px; background-position:center;\"></span>\n",
       " <span class=\"btxt\">4. 와타요업</span>\n",
       " <span class=\"stxt\">텐동</span>\n",
       " <span class=\"ctxt\"></span>\n",
       " <span class=\"ctxt\"><i class=\"loca\">대전</i>대전광역시 서구 갈마동 846 1층</span>\n",
       " <span class=\"icons\">\n",
       " </span>\n",
       " </a>,\n",
       " <a class=\"blink\" href=\"/profile.php?rid=OvNsxBXdsaX5\" target=\"_blank\">\n",
       " <span class=\"img\" style=\"overflow:hidden; background:url('https://d2t7cq5f1ua57i.cloudfront.net/images/r_images/51501/50863/51501_50863_85_4_4067_201412719154183_200x200.jpg') no-repeat; background-size:auto 100px; background-position:center;\"></span>\n",
       " <span class=\"btxt\">5. 가마솥보은순대</span>\n",
       " <span class=\"stxt\">가마솥, 순대곱창전골</span>\n",
       " <span class=\"ctxt\">깔끔한, 줄서서먹는, 부모님</span>\n",
       " <span class=\"ctxt\"><i class=\"loca\">갈마동</i>대전광역시 서구 갈마1동 432-6</span>\n",
       " <span class=\"icons\">\n",
       " </span>\n",
       " </a>,\n",
       " <a class=\"blink\" href=\"/profile.php?rid=JYNyoBUbshSw\" target=\"_blank\">\n",
       " <span class=\"img\" style=\"overflow:hidden; background:url('https://s3-ap-northeast-1.amazonaws.com/dcreviewsresized/300_300_20191002120739_photo1_oB7Vhsap7vlD.jpg') no-repeat; background-size:auto 100px; background-position:center;\"></span>\n",
       " <span class=\"btxt\">6. 은인</span>\n",
       " <span class=\"stxt\">초밥, 초밥전문</span>\n",
       " <span class=\"ctxt\">착한가격, 푸짐한, 혼술</span>\n",
       " <span class=\"ctxt\"><i class=\"loca\">갈마동</i>대전광역시 서구 갈마동 379-19</span>\n",
       " <span class=\"icons\">\n",
       " </span>\n",
       " </a>,\n",
       " <a class=\"blink\" href=\"/profile.php?rid=IzDhklLzDwu0\" target=\"_blank\">\n",
       " <span class=\"img\" style=\"overflow:hidden; background:url('https://s3-ap-northeast-1.amazonaws.com/dcreviewsresized/300_300_20200501010737_photo1_dddfda375f39.jpg') no-repeat; background-size:auto 100px; background-position:center;\"></span>\n",
       " <span class=\"btxt\">7. 양지식당</span>\n",
       " <span class=\"stxt\">김치찌개, 삼겹살</span>\n",
       " <span class=\"ctxt\">오래된맛집, 숨은맛집, 가족모임</span>\n",
       " <span class=\"ctxt\"><i class=\"loca\">갈마동</i>대전광역시 서구 갈마1동 363-6</span>\n",
       " <span class=\"icons\">\n",
       " </span>\n",
       " </a>,\n",
       " <a class=\"blink\" href=\"/profile.php?rid=Gznn6ykPvfTu\" target=\"_blank\">\n",
       " <span class=\"img\" style=\"overflow:hidden; background:url('https://s3-ap-northeast-1.amazonaws.com/dcreviewsresized/300_300_20200601214906_photo1_8e68deea3142.jpg') no-repeat; background-size:auto 100px; background-position:center;\"></span>\n",
       " <span class=\"btxt\">8. 아저씨족발</span>\n",
       " <span class=\"stxt\">마늘족발, 족발</span>\n",
       " <span class=\"ctxt\">푸짐한, 아늑한, 해장</span>\n",
       " <span class=\"ctxt\"><i class=\"loca\">갈마동</i>대전광역시 서구 갈마동 1051</span>\n",
       " <span class=\"icons\">\n",
       " </span>\n",
       " </a>,\n",
       " <a class=\"blink\" href=\"/profile.php?rid=hPXgg76eo8hB\" target=\"_blank\">\n",
       " <span class=\"img\" style=\"overflow:hidden; background:url('https://s3-ap-northeast-1.amazonaws.com/dcreviewsresized/300_300_20200511103717_photo1_967a9759771e.jpg') no-repeat; background-size:auto 100px; background-position:center;\"></span>\n",
       " <span class=\"btxt\">9. 킨토토소바</span>\n",
       " <span class=\"stxt\"></span>\n",
       " <span class=\"ctxt\"></span>\n",
       " <span class=\"ctxt\"><i class=\"loca\">갈마동</i>대전시 서구 갈마동 273-19</span>\n",
       " <span class=\"icons\">\n",
       " </span>\n",
       " </a>,\n",
       " <a class=\"blink\" href=\"/profile.php?rid=wbuLHufl3Rzr\" target=\"_blank\">\n",
       " <span class=\"img\" style=\"overflow:hidden; background:url('https://s3-ap-northeast-1.amazonaws.com/dcreviewsresized/300_300_20200302082804_photo1_e4885f69084c.jpg') no-repeat; background-size:auto 100px; background-position:center;\"></span>\n",
       " <span class=\"btxt\">10. 커먼힐즈</span>\n",
       " <span class=\"stxt\">베이커리카페, 카페</span>\n",
       " <span class=\"ctxt\">분위기좋은, 넓은공간, 모임장소</span>\n",
       " <span class=\"ctxt\"><i class=\"loca\">갈마동</i>대전광역시 서구 갈마동 914</span>\n",
       " <span class=\"icons\">\n",
       " </span>\n",
       " </a>]"
      ]
     },
     "execution_count": 157,
     "metadata": {},
     "output_type": "execute_result"
    }
   ],
   "source": [
    "number = soup.find_all(class_=\"blink\")\n",
    "number"
   ]
  },
  {
   "cell_type": "code",
   "execution_count": 158,
   "metadata": {},
   "outputs": [
    {
     "name": "stdout",
     "output_type": "stream",
     "text": [
      "['미스터아구', '륀에이치', '카페 웨이브', '와타요업', '가마솥보은순대', '은인', '양지식당', '아저씨족발', '킨토토소바', ' 커먼힐즈']\n"
     ]
    }
   ],
   "source": [
    "store = []\n",
    "for a in number:\n",
    "    store.append(a.find(class_='btxt').get_text()[3:])\n",
    "print(store)"
   ]
  },
  {
   "cell_type": "code",
   "execution_count": 159,
   "metadata": {},
   "outputs": [],
   "source": [
    "show_stores = pd.DataFrame({'갈마동 맛집순위' : store})"
   ]
  },
  {
   "cell_type": "code",
   "execution_count": 160,
   "metadata": {},
   "outputs": [
    {
     "data": {
      "text/html": [
       "<div>\n",
       "<style scoped>\n",
       "    .dataframe tbody tr th:only-of-type {\n",
       "        vertical-align: middle;\n",
       "    }\n",
       "\n",
       "    .dataframe tbody tr th {\n",
       "        vertical-align: top;\n",
       "    }\n",
       "\n",
       "    .dataframe thead th {\n",
       "        text-align: right;\n",
       "    }\n",
       "</style>\n",
       "<table border=\"1\" class=\"dataframe\">\n",
       "  <thead>\n",
       "    <tr style=\"text-align: right;\">\n",
       "      <th></th>\n",
       "      <th>갈마동 맛집순위</th>\n",
       "    </tr>\n",
       "  </thead>\n",
       "  <tbody>\n",
       "    <tr>\n",
       "      <th>0</th>\n",
       "      <td>미스터아구</td>\n",
       "    </tr>\n",
       "    <tr>\n",
       "      <th>1</th>\n",
       "      <td>륀에이치</td>\n",
       "    </tr>\n",
       "    <tr>\n",
       "      <th>2</th>\n",
       "      <td>카페 웨이브</td>\n",
       "    </tr>\n",
       "    <tr>\n",
       "      <th>3</th>\n",
       "      <td>와타요업</td>\n",
       "    </tr>\n",
       "    <tr>\n",
       "      <th>4</th>\n",
       "      <td>가마솥보은순대</td>\n",
       "    </tr>\n",
       "    <tr>\n",
       "      <th>5</th>\n",
       "      <td>은인</td>\n",
       "    </tr>\n",
       "    <tr>\n",
       "      <th>6</th>\n",
       "      <td>양지식당</td>\n",
       "    </tr>\n",
       "    <tr>\n",
       "      <th>7</th>\n",
       "      <td>아저씨족발</td>\n",
       "    </tr>\n",
       "    <tr>\n",
       "      <th>8</th>\n",
       "      <td>킨토토소바</td>\n",
       "    </tr>\n",
       "    <tr>\n",
       "      <th>9</th>\n",
       "      <td>커먼힐즈</td>\n",
       "    </tr>\n",
       "  </tbody>\n",
       "</table>\n",
       "</div>"
      ],
      "text/plain": [
       "  갈마동 맛집순위\n",
       "0    미스터아구\n",
       "1     륀에이치\n",
       "2   카페 웨이브\n",
       "3     와타요업\n",
       "4  가마솥보은순대\n",
       "5       은인\n",
       "6     양지식당\n",
       "7    아저씨족발\n",
       "8    킨토토소바\n",
       "9     커먼힐즈"
      ]
     },
     "execution_count": 160,
     "metadata": {},
     "output_type": "execute_result"
    }
   ],
   "source": [
    "show_stores"
   ]
  }
 ],
 "metadata": {
  "kernelspec": {
   "display_name": "Python 3",
   "language": "python",
   "name": "python3"
  },
  "language_info": {
   "codemirror_mode": {
    "name": "ipython",
    "version": 3
   },
   "file_extension": ".py",
   "mimetype": "text/x-python",
   "name": "python",
   "nbconvert_exporter": "python",
   "pygments_lexer": "ipython3",
   "version": "3.7.6"
  }
 },
 "nbformat": 4,
 "nbformat_minor": 4
}
