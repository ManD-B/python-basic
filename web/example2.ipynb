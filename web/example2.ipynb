{
 "cells": [
  {
   "cell_type": "markdown",
   "metadata": {},
   "source": [
    "# 연습2"
   ]
  },
  {
   "cell_type": "code",
   "execution_count": 7,
   "metadata": {},
   "outputs": [],
   "source": [
    "from bs4 import BeautifulSoup\n",
    "fp = open('example2.html')\n",
    "soup = BeautifulSoup(fp, 'html.parser')\n",
    "fp.close()"
   ]
  },
  {
   "cell_type": "code",
   "execution_count": 8,
   "metadata": {},
   "outputs": [
    {
     "name": "stdout",
     "output_type": "stream",
     "text": [
      "<!DOCTYPE html>\n",
      "\n",
      "<html>\n",
      "<head>\n",
      "<meta charset=\"utf-8\"/>\n",
      "<title>Web Crawling Example</title>\n",
      "</head>\n",
      "<body>\n",
      "<div>\n",
      "<p class=\"inner-text first-item\" id=\"first\">\n",
      "            Happy PinkWink.\n",
      "            <a href=\"http://pinkwink.kr\" id=\"pw-link\">Pink</a>\n",
      "</p>\n",
      "<p class=\"inner-text second-item\" id=\"first\">\n",
      "            Happy Data Science.\n",
      "            <a href=\"http://python.org\" id=\"pw-link\">Python</a>\n",
      "</p>\n",
      "</div>\n",
      "<p class=\"outer-text first-item\" id=\"second\">\n",
      "<b>\n",
      "            Data Science is funny.\n",
      "        </b>\n",
      "</p>\n",
      "<p class=\"outer-text\">\n",
      "<b>\n",
      "            All I need is Love.\n",
      "        </b>\n",
      "</p>\n",
      "</body>\n",
      "</html>\n",
      "\n"
     ]
    }
   ],
   "source": [
    "print(soup)"
   ]
  },
  {
   "cell_type": "code",
   "execution_count": 9,
   "metadata": {},
   "outputs": [
    {
     "data": {
      "text/plain": [
       "['html',\n",
       " '\\n',\n",
       " <html>\n",
       " <head>\n",
       " <meta charset=\"utf-8\"/>\n",
       " <title>Web Crawling Example</title>\n",
       " </head>\n",
       " <body>\n",
       " <div>\n",
       " <p class=\"inner-text first-item\" id=\"first\">\n",
       "             Happy PinkWink.\n",
       "             <a href=\"http://pinkwink.kr\" id=\"pw-link\">Pink</a>\n",
       " </p>\n",
       " <p class=\"inner-text second-item\" id=\"first\">\n",
       "             Happy Data Science.\n",
       "             <a href=\"http://python.org\" id=\"pw-link\">Python</a>\n",
       " </p>\n",
       " </div>\n",
       " <p class=\"outer-text first-item\" id=\"second\">\n",
       " <b>\n",
       "             Data Science is funny.\n",
       "         </b>\n",
       " </p>\n",
       " <p class=\"outer-text\">\n",
       " <b>\n",
       "             All I need is Love.\n",
       "         </b>\n",
       " </p>\n",
       " </body>\n",
       " </html>,\n",
       " '\\n']"
      ]
     },
     "execution_count": 9,
     "metadata": {},
     "output_type": "execute_result"
    }
   ],
   "source": [
    "list(soup.children)"
   ]
  },
  {
   "cell_type": "code",
   "execution_count": 10,
   "metadata": {},
   "outputs": [],
   "source": [
    "body = soup.find('body')"
   ]
  },
  {
   "cell_type": "code",
   "execution_count": 11,
   "metadata": {},
   "outputs": [
    {
     "data": {
      "text/plain": [
       "<body>\n",
       "<div>\n",
       "<p class=\"inner-text first-item\" id=\"first\">\n",
       "            Happy PinkWink.\n",
       "            <a href=\"http://pinkwink.kr\" id=\"pw-link\">Pink</a>\n",
       "</p>\n",
       "<p class=\"inner-text second-item\" id=\"first\">\n",
       "            Happy Data Science.\n",
       "            <a href=\"http://python.org\" id=\"pw-link\">Python</a>\n",
       "</p>\n",
       "</div>\n",
       "<p class=\"outer-text first-item\" id=\"second\">\n",
       "<b>\n",
       "            Data Science is funny.\n",
       "        </b>\n",
       "</p>\n",
       "<p class=\"outer-text\">\n",
       "<b>\n",
       "            All I need is Love.\n",
       "        </b>\n",
       "</p>\n",
       "</body>"
      ]
     },
     "execution_count": 11,
     "metadata": {},
     "output_type": "execute_result"
    }
   ],
   "source": [
    "body"
   ]
  },
  {
   "cell_type": "code",
   "execution_count": null,
   "metadata": {},
   "outputs": [],
   "source": []
  },
  {
   "cell_type": "code",
   "execution_count": 13,
   "metadata": {},
   "outputs": [
    {
     "ename": "TypeError",
     "evalue": "'NoneType' object is not callable",
     "output_type": "error",
     "traceback": [
      "\u001b[1;31m---------------------------------------------------------------------------\u001b[0m",
      "\u001b[1;31mTypeError\u001b[0m                                 Traceback (most recent call last)",
      "\u001b[1;32m<ipython-input-13-0a8fbbcd96e0>\u001b[0m in \u001b[0;36m<module>\u001b[1;34m\u001b[0m\n\u001b[0;32m      1\u001b[0m \u001b[0mfirst_p\u001b[0m \u001b[1;33m=\u001b[0m \u001b[0msoup\u001b[0m\u001b[1;33m.\u001b[0m\u001b[0mfind\u001b[0m\u001b[1;33m(\u001b[0m\u001b[1;34m'p'\u001b[0m\u001b[1;33m)\u001b[0m\u001b[1;33m\u001b[0m\u001b[1;33m\u001b[0m\u001b[0m\n\u001b[1;32m----> 2\u001b[1;33m \u001b[0mfirst_p\u001b[0m\u001b[1;33m.\u001b[0m\u001b[0mgit_text\u001b[0m\u001b[1;33m(\u001b[0m\u001b[1;33m)\u001b[0m\u001b[1;33m\u001b[0m\u001b[1;33m\u001b[0m\u001b[0m\n\u001b[0m",
      "\u001b[1;31mTypeError\u001b[0m: 'NoneType' object is not callable"
     ]
    }
   ],
   "source": [
    "first_p = soup.find('p')\n",
    "first_p.git_text()"
   ]
  },
  {
   "cell_type": "code",
   "execution_count": null,
   "metadata": {},
   "outputs": [],
   "source": [
    "first_p.find('a').get_text()"
   ]
  },
  {
   "cell_type": "code",
   "execution_count": 14,
   "metadata": {},
   "outputs": [
    {
     "data": {
      "text/plain": [
       "[<p class=\"inner-text first-item\" id=\"first\">\n",
       "             Happy PinkWink.\n",
       "             <a href=\"http://pinkwink.kr\" id=\"pw-link\">Pink</a>\n",
       " </p>,\n",
       " <p class=\"inner-text second-item\" id=\"first\">\n",
       "             Happy Data Science.\n",
       "             <a href=\"http://python.org\" id=\"pw-link\">Python</a>\n",
       " </p>]"
      ]
     },
     "execution_count": 14,
     "metadata": {},
     "output_type": "execute_result"
    }
   ],
   "source": [
    "soup.find_all(class_='inner-text')"
   ]
  },
  {
   "cell_type": "code",
   "execution_count": 16,
   "metadata": {},
   "outputs": [
    {
     "data": {
      "text/plain": [
       "[<p class=\"outer-text first-item\" id=\"second\">\n",
       " <b>\n",
       "             Data Science is funny.\n",
       "         </b>\n",
       " </p>,\n",
       " <p class=\"outer-text\">\n",
       " <b>\n",
       "             All I need is Love.\n",
       "         </b>\n",
       " </p>]"
      ]
     },
     "execution_count": 16,
     "metadata": {},
     "output_type": "execute_result"
    }
   ],
   "source": [
    "soup.find_all(class_='outer-text')"
   ]
  },
  {
   "cell_type": "code",
   "execution_count": 17,
   "metadata": {},
   "outputs": [
    {
     "data": {
      "text/plain": [
       "<p class=\"outer-text first-item\" id=\"second\">\n",
       "<b>\n",
       "            Data Science is funny.\n",
       "        </b>\n",
       "</p>"
      ]
     },
     "execution_count": 17,
     "metadata": {},
     "output_type": "execute_result"
    }
   ],
   "source": [
    "soup.find(id = 'second')"
   ]
  },
  {
   "cell_type": "code",
   "execution_count": 18,
   "metadata": {},
   "outputs": [
    {
     "data": {
      "text/plain": [
       "<a href=\"http://pinkwink.kr\" id=\"pw-link\">Pink</a>"
      ]
     },
     "execution_count": 18,
     "metadata": {},
     "output_type": "execute_result"
    }
   ],
   "source": [
    "soup.find('a')"
   ]
  },
  {
   "cell_type": "code",
   "execution_count": 19,
   "metadata": {},
   "outputs": [
    {
     "data": {
      "text/plain": [
       "'http://pinkwink.kr'"
      ]
     },
     "execution_count": 19,
     "metadata": {},
     "output_type": "execute_result"
    }
   ],
   "source": [
    "a = soup.find('a')\n",
    "a['href']"
   ]
  },
  {
   "cell_type": "code",
   "execution_count": 20,
   "metadata": {},
   "outputs": [
    {
     "data": {
      "text/plain": [
       "[<a href=\"http://pinkwink.kr\" id=\"pw-link\">Pink</a>,\n",
       " <a href=\"http://python.org\" id=\"pw-link\">Python</a>]"
      ]
     },
     "execution_count": 20,
     "metadata": {},
     "output_type": "execute_result"
    }
   ],
   "source": [
    "soup.find_all('a')"
   ]
  },
  {
   "cell_type": "code",
   "execution_count": 22,
   "metadata": {},
   "outputs": [
    {
     "name": "stdout",
     "output_type": "stream",
     "text": [
      "Pink:\thttp://pinkwink.kr\n",
      "Python:\thttp://python.org\n"
     ]
    }
   ],
   "source": [
    "links = soup.find_all('a')\n",
    "for link in links :\n",
    "    url = link['href']\n",
    "    site = link.get_text()\n",
    "    print('%s:\\t%s' % (site, url))"
   ]
  },
  {
   "cell_type": "code",
   "execution_count": 23,
   "metadata": {},
   "outputs": [
    {
     "data": {
      "text/plain": [
       "<a href=\"http://pinkwink.kr\" id=\"pw-link\">Pink</a>"
      ]
     },
     "execution_count": 23,
     "metadata": {},
     "output_type": "execute_result"
    }
   ],
   "source": [
    "soup.find_all('a')[0]"
   ]
  },
  {
   "cell_type": "code",
   "execution_count": 24,
   "metadata": {},
   "outputs": [
    {
     "data": {
      "text/plain": [
       "'\\n'"
      ]
     },
     "execution_count": 24,
     "metadata": {},
     "output_type": "execute_result"
    }
   ],
   "source": [
    "soup.find_all('a')[0].next_sibling"
   ]
  },
  {
   "cell_type": "code",
   "execution_count": 26,
   "metadata": {},
   "outputs": [
    {
     "data": {
      "text/plain": [
       "['Pink']"
      ]
     },
     "execution_count": 26,
     "metadata": {},
     "output_type": "execute_result"
    }
   ],
   "source": [
    "list(body.a.children)"
   ]
  },
  {
   "cell_type": "markdown",
   "metadata": {},
   "source": [
    "# 크롬 개발자 도구를 이용해서 원하는 태그 찾기"
   ]
  },
  {
   "cell_type": "code",
   "execution_count": 28,
   "metadata": {},
   "outputs": [],
   "source": [
    "from urllib.request import urlopen"
   ]
  },
  {
   "cell_type": "code",
   "execution_count": 29,
   "metadata": {},
   "outputs": [],
   "source": [
    "url = 'https://finance.naver.com/marketindex/'\n",
    "page = urlopen(url)\n",
    "\n",
    "soup = BeautifulSoup(page, 'html.parser')"
   ]
  },
  {
   "cell_type": "code",
   "execution_count": 31,
   "metadata": {},
   "outputs": [
    {
     "data": {
      "text/plain": [
       "[<span class=\"value\">1,193.30</span>,\n",
       " <span class=\"value\">1,107.88</span>,\n",
       " <span class=\"value\">1,353.38</span>,\n",
       " <span class=\"value\">168.82</span>,\n",
       " <span class=\"value\">107.7100</span>,\n",
       " <span class=\"value\">1.1353</span>,\n",
       " <span class=\"value\">1.2722</span>,\n",
       " <span class=\"value\">96.3200</span>,\n",
       " <span class=\"value\">38.94</span>,\n",
       " <span class=\"value\">1307.71</span>,\n",
       " <span class=\"value\">1714.7</span>,\n",
       " <span class=\"value\">65943.45</span>]"
      ]
     },
     "execution_count": 31,
     "metadata": {},
     "output_type": "execute_result"
    }
   ],
   "source": [
    "soup.find_all(class_='value')"
   ]
  },
  {
   "cell_type": "code",
   "execution_count": 50,
   "metadata": {},
   "outputs": [
    {
     "data": {
      "text/plain": [
       "[<li class=\"on\">\n",
       " <a class=\"head usd\" href=\"/marketindex/exchangeDetail.nhn?marketindexCd=FX_USDKRW\" onclick=\"clickcr(this, 'fr1.usdt', '', '', event);\">\n",
       " <h3 class=\"h_lst\"><span class=\"blind\">미국 USD</span></h3>\n",
       " <div class=\"head_info point_dn\">\n",
       " <span class=\"value\">1,193.30</span>\n",
       " <span class=\"txt_krw\"><span class=\"blind\">원</span></span>\n",
       " <span class=\"change\"> 7.70</span>\n",
       " <span class=\"blind\">하락</span>\n",
       " </div>\n",
       " </a>\n",
       " <a class=\"graph_img\" href=\"/marketindex/exchangeDetail.nhn?marketindexCd=FX_USDKRW\" onclick=\"clickcr(this, 'fr1.usdc', '', '', event);\">\n",
       " <img alt=\"\" height=\"153\" src=\"https://ssl.pstatic.net/imgfinance/chart/marketindex/FX_USDKRW.png\" width=\"295\"/>\n",
       " </a>\n",
       " <div class=\"graph_info\">\n",
       " <span class=\"time\">2020.06.10 11:22</span>\n",
       " <span class=\"source\">하나은행 기준</span>\n",
       " <span class=\"count\">고시회차<span class=\"num\">182</span>회</span>\n",
       " </div>\n",
       " </li>,\n",
       " <li class=\"\">\n",
       " <a class=\"head jpy\" href=\"/marketindex/exchangeDetail.nhn?marketindexCd=FX_JPYKRW\" onclick=\"clickcr(this, 'fr1.jpyt', '', '', event);\">\n",
       " <h3 class=\"h_lst\"><span class=\"blind\">일본 JPY(100엔)</span></h3>\n",
       " <div class=\"head_info point_dn\">\n",
       " <span class=\"value\">1,107.88</span>\n",
       " <span class=\"txt_krw\"><span class=\"blind\">원</span></span>\n",
       " <span class=\"change\"> 3.49</span>\n",
       " <span class=\"blind\">하락</span>\n",
       " </div>\n",
       " </a>\n",
       " <a class=\"graph_img\" href=\"/marketindex/exchangeDetail.nhn?marketindexCd=FX_JPYKRW\" onclick=\"clickcr(this, 'fr1.jpyc', '', '', event);\">\n",
       " <img alt=\"\" height=\"153\" src=\"https://ssl.pstatic.net/imgfinance/chart/marketindex/FX_JPYKRW.png\" width=\"295\"/>\n",
       " </a>\n",
       " <div class=\"graph_info\">\n",
       " <span class=\"time\">2020.06.10 11:22</span>\n",
       " <span class=\"source\">하나은행 기준</span>\n",
       " <span class=\"count\">고시회차<span class=\"num\">182</span>회</span>\n",
       " </div>\n",
       " </li>,\n",
       " <li class=\"\">\n",
       " <a class=\"head eur\" href=\"/marketindex/exchangeDetail.nhn?marketindexCd=FX_EURKRW\" onclick=\"clickcr(this, 'fr1.eurt', '', '', event);\">\n",
       " <h3 class=\"h_lst\"><span class=\"blind\">유럽연합 EUR</span></h3>\n",
       " <div class=\"head_info point_dn\">\n",
       " <span class=\"value\">1,353.38</span>\n",
       " <span class=\"txt_krw\"><span class=\"blind\">원</span></span>\n",
       " <span class=\"change\"> 1.29</span>\n",
       " <span class=\"blind\">하락</span>\n",
       " </div>\n",
       " </a>\n",
       " <a class=\"graph_img\" href=\"/marketindex/exchangeDetail.nhn?marketindexCd=FX_EURKRW\" onclick=\"clickcr(this, 'fr1.eurc', '', '', event);\">\n",
       " <img alt=\"\" height=\"153\" src=\"https://ssl.pstatic.net/imgfinance/chart/marketindex/FX_EURKRW.png\" width=\"295\"/>\n",
       " </a>\n",
       " <div class=\"graph_info\">\n",
       " <span class=\"time\">2020.06.10 11:22</span>\n",
       " <span class=\"source\">하나은행 기준</span>\n",
       " <span class=\"count\">고시회차<span class=\"num\">182</span>회</span>\n",
       " </div>\n",
       " </li>,\n",
       " <li class=\"\">\n",
       " <a class=\"head cny\" href=\"/marketindex/exchangeDetail.nhn?marketindexCd=FX_CNYKRW\" onclick=\"clickcr(this, 'fr1.cnyt', '', '', event);\">\n",
       " <h3 class=\"h_lst\"><span class=\"blind\">중국 CNY</span></h3>\n",
       " <div class=\"head_info point_dn\">\n",
       " <span class=\"value\">168.82</span>\n",
       " <span class=\"txt_krw\"><span class=\"blind\">원</span></span>\n",
       " <span class=\"change\"> 0.67</span>\n",
       " <span class=\"blind\">하락</span>\n",
       " </div>\n",
       " </a>\n",
       " <a class=\"graph_img\" href=\"/marketindex/exchangeDetail.nhn?marketindexCd=FX_CNYKRW\" onclick=\"clickcr(this, 'fr1.cnyc', '', '', event);\">\n",
       " <img alt=\"\" height=\"153\" src=\"https://ssl.pstatic.net/imgfinance/chart/marketindex/FX_CNYKRW.png\" width=\"295\"/>\n",
       " </a>\n",
       " <div class=\"graph_info\">\n",
       " <span class=\"time\">2020.06.10 11:22</span>\n",
       " <span class=\"source\">하나은행 기준</span>\n",
       " <span class=\"count\">고시회차<span class=\"num\">182</span>회</span>\n",
       " </div>\n",
       " </li>,\n",
       " <li class=\"on\">\n",
       " <a class=\"head jpy_usd\" href=\"/marketindex/worldExchangeDetail.nhn?marketindexCd=FX_USDJPY\" onclick=\"clickcr(this, 'fr2.jpyut', '', '', event);\">\n",
       " <h3 class=\"h_lst\"><span class=\"blind\">일본 엔/달러</span></h3>\n",
       " <div class=\"head_info point_dn\">\n",
       " <span class=\"value\">107.7100</span>\n",
       " <span class=\"txt_jpy\"><span class=\"blind\">엔</span></span>\n",
       " <span class=\"change\"> 0.8600</span>\n",
       " <span class=\"blind\">하락</span>\n",
       " </div>\n",
       " </a>\n",
       " <a class=\"graph_img\" href=\"/marketindex/worldExchangeDetail.nhn?marketindexCd=FX_USDJPY\" onclick=\"clickcr(this, 'fr2.jpyuc', '', '', event);\">\n",
       " <img alt=\"\" height=\"153\" src=\"https://ssl.pstatic.net/imgfinance/chart/marketindex/FX_USDJPY.png\" width=\"295\"/>\n",
       " </a>\n",
       " <div class=\"graph_info\">\n",
       " <span class=\"time\">2020.06.09</span>\n",
       " <span class=\"source\">모닝스타 기준</span>\n",
       " </div>\n",
       " </li>,\n",
       " <li class=\"\">\n",
       " <a class=\"head usd_eur\" href=\"/marketindex/worldExchangeDetail.nhn?marketindexCd=FX_EURUSD\" onclick=\"clickcr(this, 'fr2.eurdt', '', '', event);\">\n",
       " <h3 class=\"h_lst\"><span class=\"blind\">달러/유로</span></h3>\n",
       " <div class=\"head_info point_up\">\n",
       " <span class=\"value\">1.1353</span>\n",
       " <span class=\"txt_usd\"><span class=\"blind\">달러</span></span>\n",
       " <span class=\"change\">0.0053</span>\n",
       " <span class=\"blind\">상승</span>\n",
       " </div>\n",
       " </a>\n",
       " <a class=\"graph_img\" href=\"/marketindex/worldExchangeDetail.nhn?marketindexCd=FX_EURUSD\" onclick=\"clickcr(this, 'fr2.eurdc', '', '', event);\">\n",
       " <img alt=\"\" height=\"153\" src=\"https://ssl.pstatic.net/imgfinance/chart/marketindex/FX_EURUSD.png\" width=\"295\"/>\n",
       " </a>\n",
       " <div class=\"graph_info\">\n",
       " <span class=\"time\">2020.06.09</span>\n",
       " <span class=\"source\">모닝스타 기준</span>\n",
       " </div>\n",
       " </li>,\n",
       " <li class=\"\">\n",
       " <a class=\"head usd_gbp\" href=\"/marketindex/worldExchangeDetail.nhn?marketindexCd=FX_GBPUSD\" onclick=\"clickcr(this, 'fr2.gbpdt', '', '', event);\">\n",
       " <h3 class=\"h_lst\"><span class=\"blind\">달러/영국파운드</span></h3>\n",
       " <div class=\"head_info point_up\">\n",
       " <span class=\"value\">1.2722</span>\n",
       " <span class=\"txt_usd\"><span class=\"blind\">달러</span></span>\n",
       " <span class=\"change\">0.0023</span>\n",
       " <span class=\"blind\">상승</span>\n",
       " </div>\n",
       " </a>\n",
       " <a class=\"graph_img\" href=\"/marketindex/worldExchangeDetail.nhn?marketindexCd=FX_GBPUSD\" onclick=\"clickcr(this, 'fr2.gbpdc', '', '', event);\">\n",
       " <img alt=\"\" height=\"153\" src=\"https://ssl.pstatic.net/imgfinance/chart/marketindex/FX_GBPUSD.png\" width=\"295\"/>\n",
       " </a>\n",
       " <div class=\"graph_info\">\n",
       " <span class=\"time\">2020.06.09</span>\n",
       " <span class=\"source\">모닝스타 기준</span>\n",
       " </div>\n",
       " </li>,\n",
       " <li class=\"\">\n",
       " <a class=\"head usd_idx\" href=\"/marketindex/worldExchangeDetail.nhn?marketindexCd=FX_USDX\" onclick=\"clickcr(this, 'fr2.indt', '', '', event);\">\n",
       " <h3 class=\"h_lst\"><span class=\"blind\">달러인덱스</span></h3>\n",
       " <div class=\"head_info point_dn\">\n",
       " <span class=\"value\">96.3200</span>\n",
       " <span class=\"change\"> 0.2800</span>\n",
       " <span class=\"blind\">하락</span>\n",
       " </div>\n",
       " </a>\n",
       " <a class=\"graph_img\" href=\"/marketindex/worldExchangeDetail.nhn?marketindexCd=FX_USDX\" onclick=\"clickcr(this, 'fr2.indc', '', '', event);\">\n",
       " <img alt=\"\" height=\"153\" src=\"https://ssl.pstatic.net/imgfinance/chart/marketindex/FX_USDX.png\" width=\"295\"/>\n",
       " </a>\n",
       " <div class=\"graph_info\">\n",
       " <span class=\"time\">2020.06.09</span>\n",
       " <span class=\"source\">ICE 기준</span>\n",
       " </div>\n",
       " </li>,\n",
       " <li class=\"on\">\n",
       " <a class=\"head wti\" href=\"/marketindex/worldOilDetail.nhn?marketindexCd=OIL_CL&amp;fdtc=2\" onclick=\"clickcr(this, 'fr3.wtit', '', '', event);\">\n",
       " <h3 class=\"h_lst\"><span class=\"blind\">WTI</span></h3>\n",
       " <div class=\"head_info point_up\">\n",
       " <span class=\"value\">38.94</span>\n",
       " <span class=\"txt_usd\"><span class=\"blind\">달러</span></span>\n",
       " <span class=\"change\">0.75</span>\n",
       " <span class=\"blind\">상승</span>\n",
       " </div>\n",
       " </a>\n",
       " <a class=\"graph_img\" href=\"/marketindex/worldOilDetail.nhn?marketindexCd=OIL_CL&amp;fdtc=2\" onclick=\"clickcr(this, 'fr3.wtic', '', '', event);\">\n",
       " <img alt=\"\" height=\"153\" src=\"https://ssl.pstatic.net/imgfinance/chart/marketindex/OIL_CL.png\" width=\"295\"/>\n",
       " </a>\n",
       " <div class=\"graph_info\">\n",
       " <span class=\"time\">2020.06.09</span>\n",
       " <span class=\"source\">NYMEX(뉴욕상업거래소) 기준</span>\n",
       " </div>\n",
       " </li>,\n",
       " <li class=\"\">\n",
       " <a class=\"head gasoline\" href=\"/marketindex/oilDetail.nhn?marketindexCd=OIL_GSL\" onclick=\"clickcr(this, 'fr3.oilt', '', '', event);\">\n",
       " <h3 class=\"h_lst\"><span class=\"blind\">휘발유</span></h3>\n",
       " <div class=\"head_info point_up\">\n",
       " <span class=\"value\">1307.71</span>\n",
       " <span class=\"txt_krw\"><span class=\"blind\">원</span></span>\n",
       " <span class=\"change\">1.63</span>\n",
       " <span class=\"blind\">상승</span>\n",
       " </div>\n",
       " </a>\n",
       " <a class=\"graph_img\" href=\"/marketindex/oilDetail.nhn?marketindexCd=OIL_GSL\" onclick=\"clickcr(this, 'fr3.oilc', '', '', event);\">\n",
       " <img alt=\"\" height=\"153\" src=\"https://ssl.pstatic.net/imgfinance/chart/marketindex/OIL_GSL.png\" width=\"295\"/>\n",
       " </a>\n",
       " <div class=\"graph_info\">\n",
       " <span class=\"time\">2020.06.10</span>\n",
       " <span class=\"source\">한국석유공사 Opinet 기준</span>\n",
       " </div>\n",
       " </li>,\n",
       " <li class=\"\">\n",
       " <a class=\"head gold_inter\" href=\"/marketindex/worldGoldDetail.nhn?marketindexCd=CMDT_GC&amp;fdtc=2\" onclick=\"clickcr(this, 'fr3.agoldt', '', '', event);\">\n",
       " <h3 class=\"h_lst\"><span class=\"blind\">국제 금</span></h3>\n",
       " <div class=\"head_info point_up\">\n",
       " <span class=\"value\">1714.7</span>\n",
       " <span class=\"txt_usd\"><span class=\"blind\">달러</span></span>\n",
       " <span class=\"change\">16.40</span>\n",
       " <span class=\"blind\">상승</span>\n",
       " </div>\n",
       " </a>\n",
       " <a class=\"graph_img\" href=\"/marketindex/worldGoldDetail.nhn?marketindexCd=CMDT_GC&amp;fdtc=2\" onclick=\"clickcr(this, 'fr3.agoldc', '', '', event);\">\n",
       " <img alt=\"\" height=\"153\" src=\"https://ssl.pstatic.net/imgfinance/chart/marketindex/CMDT_GC.png\" width=\"295\"/>\n",
       " </a>\n",
       " <div class=\"graph_info\">\n",
       " <span class=\"time\">2020.06.09</span>\n",
       " <span class=\"source\">COMEX(뉴욕상품거래소) 기준</span>\n",
       " </div>\n",
       " </li>,\n",
       " <li class=\"\">\n",
       " <a class=\"head gold_domestic\" href=\"/marketindex/goldDetail.nhn\" onclick=\"clickcr(this, 'fr3.kgoldt', '', '', event);\">\n",
       " <h3 class=\"h_lst\"><span class=\"blind\">국내 금</span></h3>\n",
       " <div class=\"head_info point_up\">\n",
       " <span class=\"value\">65943.45</span>\n",
       " <span class=\"txt_krw\"><span class=\"blind\">원</span></span>\n",
       " <span class=\"change\">119.43</span>\n",
       " <span class=\"blind\">상승</span>\n",
       " </div>\n",
       " </a>\n",
       " <a class=\"graph_img\" href=\"/marketindex/goldDetail.nhn\" onclick=\"clickcr(this, 'fr3.kgoldc', '', '', event);\">\n",
       " <img alt=\"\" height=\"153\" src=\"https://ssl.pstatic.net/imgfinance/chart/marketindex/CMDT_GD.png\" width=\"295\"/>\n",
       " </a>\n",
       " <div class=\"graph_info\">\n",
       " <span class=\"time\">2020.06.10 11:19</span>\n",
       " <span class=\"source\">신한은행 기준</span>\n",
       " \t\t\t\t\t\t\t(<span class=\"num\">78</span>회차)\t\t\t\n",
       " \t\t\t\t\t</div>\n",
       " </li>]"
      ]
     },
     "execution_count": 50,
     "metadata": {},
     "output_type": "execute_result"
    }
   ],
   "source": [
    "market_data = soup.find(class_ = 'market_data')\n",
    "lis = market_data.find_all('li')\n",
    "lis"
   ]
  },
  {
   "cell_type": "code",
   "execution_count": 56,
   "metadata": {},
   "outputs": [
    {
     "data": {
      "text/plain": [
       "[<li class=\"on\">\n",
       " <a class=\"head usd\" href=\"/marketindex/exchangeDetail.nhn?marketindexCd=FX_USDKRW\" onclick=\"clickcr(this, 'fr1.usdt', '', '', event);\">\n",
       " <h3 class=\"h_lst\"><span class=\"blind\">미국 USD</span></h3>\n",
       " <div class=\"head_info point_dn\">\n",
       " <span class=\"value\">1,193.30</span>\n",
       " <span class=\"txt_krw\"><span class=\"blind\">원</span></span>\n",
       " <span class=\"change\"> 7.70</span>\n",
       " <span class=\"blind\">하락</span>\n",
       " </div>\n",
       " </a>\n",
       " <a class=\"graph_img\" href=\"/marketindex/exchangeDetail.nhn?marketindexCd=FX_USDKRW\" onclick=\"clickcr(this, 'fr1.usdc', '', '', event);\">\n",
       " <img alt=\"\" height=\"153\" src=\"https://ssl.pstatic.net/imgfinance/chart/marketindex/FX_USDKRW.png\" width=\"295\"/>\n",
       " </a>\n",
       " <div class=\"graph_info\">\n",
       " <span class=\"time\">2020.06.10 11:22</span>\n",
       " <span class=\"source\">하나은행 기준</span>\n",
       " <span class=\"count\">고시회차<span class=\"num\">182</span>회</span>\n",
       " </div>\n",
       " </li>,\n",
       " <li class=\"\">\n",
       " <a class=\"head jpy\" href=\"/marketindex/exchangeDetail.nhn?marketindexCd=FX_JPYKRW\" onclick=\"clickcr(this, 'fr1.jpyt', '', '', event);\">\n",
       " <h3 class=\"h_lst\"><span class=\"blind\">일본 JPY(100엔)</span></h3>\n",
       " <div class=\"head_info point_dn\">\n",
       " <span class=\"value\">1,107.88</span>\n",
       " <span class=\"txt_krw\"><span class=\"blind\">원</span></span>\n",
       " <span class=\"change\"> 3.49</span>\n",
       " <span class=\"blind\">하락</span>\n",
       " </div>\n",
       " </a>\n",
       " <a class=\"graph_img\" href=\"/marketindex/exchangeDetail.nhn?marketindexCd=FX_JPYKRW\" onclick=\"clickcr(this, 'fr1.jpyc', '', '', event);\">\n",
       " <img alt=\"\" height=\"153\" src=\"https://ssl.pstatic.net/imgfinance/chart/marketindex/FX_JPYKRW.png\" width=\"295\"/>\n",
       " </a>\n",
       " <div class=\"graph_info\">\n",
       " <span class=\"time\">2020.06.10 11:22</span>\n",
       " <span class=\"source\">하나은행 기준</span>\n",
       " <span class=\"count\">고시회차<span class=\"num\">182</span>회</span>\n",
       " </div>\n",
       " </li>,\n",
       " <li class=\"\">\n",
       " <a class=\"head eur\" href=\"/marketindex/exchangeDetail.nhn?marketindexCd=FX_EURKRW\" onclick=\"clickcr(this, 'fr1.eurt', '', '', event);\">\n",
       " <h3 class=\"h_lst\"><span class=\"blind\">유럽연합 EUR</span></h3>\n",
       " <div class=\"head_info point_dn\">\n",
       " <span class=\"value\">1,353.38</span>\n",
       " <span class=\"txt_krw\"><span class=\"blind\">원</span></span>\n",
       " <span class=\"change\"> 1.29</span>\n",
       " <span class=\"blind\">하락</span>\n",
       " </div>\n",
       " </a>\n",
       " <a class=\"graph_img\" href=\"/marketindex/exchangeDetail.nhn?marketindexCd=FX_EURKRW\" onclick=\"clickcr(this, 'fr1.eurc', '', '', event);\">\n",
       " <img alt=\"\" height=\"153\" src=\"https://ssl.pstatic.net/imgfinance/chart/marketindex/FX_EURKRW.png\" width=\"295\"/>\n",
       " </a>\n",
       " <div class=\"graph_info\">\n",
       " <span class=\"time\">2020.06.10 11:22</span>\n",
       " <span class=\"source\">하나은행 기준</span>\n",
       " <span class=\"count\">고시회차<span class=\"num\">182</span>회</span>\n",
       " </div>\n",
       " </li>,\n",
       " <li class=\"\">\n",
       " <a class=\"head cny\" href=\"/marketindex/exchangeDetail.nhn?marketindexCd=FX_CNYKRW\" onclick=\"clickcr(this, 'fr1.cnyt', '', '', event);\">\n",
       " <h3 class=\"h_lst\"><span class=\"blind\">중국 CNY</span></h3>\n",
       " <div class=\"head_info point_dn\">\n",
       " <span class=\"value\">168.82</span>\n",
       " <span class=\"txt_krw\"><span class=\"blind\">원</span></span>\n",
       " <span class=\"change\"> 0.67</span>\n",
       " <span class=\"blind\">하락</span>\n",
       " </div>\n",
       " </a>\n",
       " <a class=\"graph_img\" href=\"/marketindex/exchangeDetail.nhn?marketindexCd=FX_CNYKRW\" onclick=\"clickcr(this, 'fr1.cnyc', '', '', event);\">\n",
       " <img alt=\"\" height=\"153\" src=\"https://ssl.pstatic.net/imgfinance/chart/marketindex/FX_CNYKRW.png\" width=\"295\"/>\n",
       " </a>\n",
       " <div class=\"graph_info\">\n",
       " <span class=\"time\">2020.06.10 11:22</span>\n",
       " <span class=\"source\">하나은행 기준</span>\n",
       " <span class=\"count\">고시회차<span class=\"num\">182</span>회</span>\n",
       " </div>\n",
       " </li>,\n",
       " <li class=\"on\">\n",
       " <a class=\"head jpy_usd\" href=\"/marketindex/worldExchangeDetail.nhn?marketindexCd=FX_USDJPY\" onclick=\"clickcr(this, 'fr2.jpyut', '', '', event);\">\n",
       " <h3 class=\"h_lst\"><span class=\"blind\">일본 엔/달러</span></h3>\n",
       " <div class=\"head_info point_dn\">\n",
       " <span class=\"value\">107.7100</span>\n",
       " <span class=\"txt_jpy\"><span class=\"blind\">엔</span></span>\n",
       " <span class=\"change\"> 0.8600</span>\n",
       " <span class=\"blind\">하락</span>\n",
       " </div>\n",
       " </a>\n",
       " <a class=\"graph_img\" href=\"/marketindex/worldExchangeDetail.nhn?marketindexCd=FX_USDJPY\" onclick=\"clickcr(this, 'fr2.jpyuc', '', '', event);\">\n",
       " <img alt=\"\" height=\"153\" src=\"https://ssl.pstatic.net/imgfinance/chart/marketindex/FX_USDJPY.png\" width=\"295\"/>\n",
       " </a>\n",
       " <div class=\"graph_info\">\n",
       " <span class=\"time\">2020.06.09</span>\n",
       " <span class=\"source\">모닝스타 기준</span>\n",
       " </div>\n",
       " </li>,\n",
       " <li class=\"\">\n",
       " <a class=\"head usd_eur\" href=\"/marketindex/worldExchangeDetail.nhn?marketindexCd=FX_EURUSD\" onclick=\"clickcr(this, 'fr2.eurdt', '', '', event);\">\n",
       " <h3 class=\"h_lst\"><span class=\"blind\">달러/유로</span></h3>\n",
       " <div class=\"head_info point_up\">\n",
       " <span class=\"value\">1.1353</span>\n",
       " <span class=\"txt_usd\"><span class=\"blind\">달러</span></span>\n",
       " <span class=\"change\">0.0053</span>\n",
       " <span class=\"blind\">상승</span>\n",
       " </div>\n",
       " </a>\n",
       " <a class=\"graph_img\" href=\"/marketindex/worldExchangeDetail.nhn?marketindexCd=FX_EURUSD\" onclick=\"clickcr(this, 'fr2.eurdc', '', '', event);\">\n",
       " <img alt=\"\" height=\"153\" src=\"https://ssl.pstatic.net/imgfinance/chart/marketindex/FX_EURUSD.png\" width=\"295\"/>\n",
       " </a>\n",
       " <div class=\"graph_info\">\n",
       " <span class=\"time\">2020.06.09</span>\n",
       " <span class=\"source\">모닝스타 기준</span>\n",
       " </div>\n",
       " </li>,\n",
       " <li class=\"\">\n",
       " <a class=\"head usd_gbp\" href=\"/marketindex/worldExchangeDetail.nhn?marketindexCd=FX_GBPUSD\" onclick=\"clickcr(this, 'fr2.gbpdt', '', '', event);\">\n",
       " <h3 class=\"h_lst\"><span class=\"blind\">달러/영국파운드</span></h3>\n",
       " <div class=\"head_info point_up\">\n",
       " <span class=\"value\">1.2722</span>\n",
       " <span class=\"txt_usd\"><span class=\"blind\">달러</span></span>\n",
       " <span class=\"change\">0.0023</span>\n",
       " <span class=\"blind\">상승</span>\n",
       " </div>\n",
       " </a>\n",
       " <a class=\"graph_img\" href=\"/marketindex/worldExchangeDetail.nhn?marketindexCd=FX_GBPUSD\" onclick=\"clickcr(this, 'fr2.gbpdc', '', '', event);\">\n",
       " <img alt=\"\" height=\"153\" src=\"https://ssl.pstatic.net/imgfinance/chart/marketindex/FX_GBPUSD.png\" width=\"295\"/>\n",
       " </a>\n",
       " <div class=\"graph_info\">\n",
       " <span class=\"time\">2020.06.09</span>\n",
       " <span class=\"source\">모닝스타 기준</span>\n",
       " </div>\n",
       " </li>,\n",
       " <li class=\"\">\n",
       " <a class=\"head usd_idx\" href=\"/marketindex/worldExchangeDetail.nhn?marketindexCd=FX_USDX\" onclick=\"clickcr(this, 'fr2.indt', '', '', event);\">\n",
       " <h3 class=\"h_lst\"><span class=\"blind\">달러인덱스</span></h3>\n",
       " <div class=\"head_info point_dn\">\n",
       " <span class=\"value\">96.3200</span>\n",
       " <span class=\"change\"> 0.2800</span>\n",
       " <span class=\"blind\">하락</span>\n",
       " </div>\n",
       " </a>\n",
       " <a class=\"graph_img\" href=\"/marketindex/worldExchangeDetail.nhn?marketindexCd=FX_USDX\" onclick=\"clickcr(this, 'fr2.indc', '', '', event);\">\n",
       " <img alt=\"\" height=\"153\" src=\"https://ssl.pstatic.net/imgfinance/chart/marketindex/FX_USDX.png\" width=\"295\"/>\n",
       " </a>\n",
       " <div class=\"graph_info\">\n",
       " <span class=\"time\">2020.06.09</span>\n",
       " <span class=\"source\">ICE 기준</span>\n",
       " </div>\n",
       " </li>,\n",
       " <li class=\"on\">\n",
       " <a class=\"head wti\" href=\"/marketindex/worldOilDetail.nhn?marketindexCd=OIL_CL&amp;fdtc=2\" onclick=\"clickcr(this, 'fr3.wtit', '', '', event);\">\n",
       " <h3 class=\"h_lst\"><span class=\"blind\">WTI</span></h3>\n",
       " <div class=\"head_info point_up\">\n",
       " <span class=\"value\">38.94</span>\n",
       " <span class=\"txt_usd\"><span class=\"blind\">달러</span></span>\n",
       " <span class=\"change\">0.75</span>\n",
       " <span class=\"blind\">상승</span>\n",
       " </div>\n",
       " </a>\n",
       " <a class=\"graph_img\" href=\"/marketindex/worldOilDetail.nhn?marketindexCd=OIL_CL&amp;fdtc=2\" onclick=\"clickcr(this, 'fr3.wtic', '', '', event);\">\n",
       " <img alt=\"\" height=\"153\" src=\"https://ssl.pstatic.net/imgfinance/chart/marketindex/OIL_CL.png\" width=\"295\"/>\n",
       " </a>\n",
       " <div class=\"graph_info\">\n",
       " <span class=\"time\">2020.06.09</span>\n",
       " <span class=\"source\">NYMEX(뉴욕상업거래소) 기준</span>\n",
       " </div>\n",
       " </li>,\n",
       " <li class=\"\">\n",
       " <a class=\"head gasoline\" href=\"/marketindex/oilDetail.nhn?marketindexCd=OIL_GSL\" onclick=\"clickcr(this, 'fr3.oilt', '', '', event);\">\n",
       " <h3 class=\"h_lst\"><span class=\"blind\">휘발유</span></h3>\n",
       " <div class=\"head_info point_up\">\n",
       " <span class=\"value\">1307.71</span>\n",
       " <span class=\"txt_krw\"><span class=\"blind\">원</span></span>\n",
       " <span class=\"change\">1.63</span>\n",
       " <span class=\"blind\">상승</span>\n",
       " </div>\n",
       " </a>\n",
       " <a class=\"graph_img\" href=\"/marketindex/oilDetail.nhn?marketindexCd=OIL_GSL\" onclick=\"clickcr(this, 'fr3.oilc', '', '', event);\">\n",
       " <img alt=\"\" height=\"153\" src=\"https://ssl.pstatic.net/imgfinance/chart/marketindex/OIL_GSL.png\" width=\"295\"/>\n",
       " </a>\n",
       " <div class=\"graph_info\">\n",
       " <span class=\"time\">2020.06.10</span>\n",
       " <span class=\"source\">한국석유공사 Opinet 기준</span>\n",
       " </div>\n",
       " </li>,\n",
       " <li class=\"\">\n",
       " <a class=\"head gold_inter\" href=\"/marketindex/worldGoldDetail.nhn?marketindexCd=CMDT_GC&amp;fdtc=2\" onclick=\"clickcr(this, 'fr3.agoldt', '', '', event);\">\n",
       " <h3 class=\"h_lst\"><span class=\"blind\">국제 금</span></h3>\n",
       " <div class=\"head_info point_up\">\n",
       " <span class=\"value\">1714.7</span>\n",
       " <span class=\"txt_usd\"><span class=\"blind\">달러</span></span>\n",
       " <span class=\"change\">16.40</span>\n",
       " <span class=\"blind\">상승</span>\n",
       " </div>\n",
       " </a>\n",
       " <a class=\"graph_img\" href=\"/marketindex/worldGoldDetail.nhn?marketindexCd=CMDT_GC&amp;fdtc=2\" onclick=\"clickcr(this, 'fr3.agoldc', '', '', event);\">\n",
       " <img alt=\"\" height=\"153\" src=\"https://ssl.pstatic.net/imgfinance/chart/marketindex/CMDT_GC.png\" width=\"295\"/>\n",
       " </a>\n",
       " <div class=\"graph_info\">\n",
       " <span class=\"time\">2020.06.09</span>\n",
       " <span class=\"source\">COMEX(뉴욕상품거래소) 기준</span>\n",
       " </div>\n",
       " </li>,\n",
       " <li class=\"\">\n",
       " <a class=\"head gold_domestic\" href=\"/marketindex/goldDetail.nhn\" onclick=\"clickcr(this, 'fr3.kgoldt', '', '', event);\">\n",
       " <h3 class=\"h_lst\"><span class=\"blind\">국내 금</span></h3>\n",
       " <div class=\"head_info point_up\">\n",
       " <span class=\"value\">65943.45</span>\n",
       " <span class=\"txt_krw\"><span class=\"blind\">원</span></span>\n",
       " <span class=\"change\">119.43</span>\n",
       " <span class=\"blind\">상승</span>\n",
       " </div>\n",
       " </a>\n",
       " <a class=\"graph_img\" href=\"/marketindex/goldDetail.nhn\" onclick=\"clickcr(this, 'fr3.kgoldc', '', '', event);\">\n",
       " <img alt=\"\" height=\"153\" src=\"https://ssl.pstatic.net/imgfinance/chart/marketindex/CMDT_GD.png\" width=\"295\"/>\n",
       " </a>\n",
       " <div class=\"graph_info\">\n",
       " <span class=\"time\">2020.06.10 11:19</span>\n",
       " <span class=\"source\">신한은행 기준</span>\n",
       " \t\t\t\t\t\t\t(<span class=\"num\">78</span>회차)\t\t\t\n",
       " \t\t\t\t\t</div>\n",
       " </li>]"
      ]
     },
     "execution_count": 56,
     "metadata": {},
     "output_type": "execute_result"
    }
   ],
   "source": [
    "market_data = soup.find_all(class_ = 'market_data')\n",
    "lis = market_data[0].find_all('li')\n",
    "lis"
   ]
  },
  {
   "cell_type": "code",
   "execution_count": 51,
   "metadata": {},
   "outputs": [
    {
     "name": "stdout",
     "output_type": "stream",
     "text": [
      "미국 USD 1,193.30\n",
      "일본 JPY(100엔) 1,107.88\n",
      "유럽연합 EUR 1,353.38\n",
      "중국 CNY 168.82\n",
      "일본 엔/달러 107.7100\n",
      "달러/유로 1.1353\n",
      "달러/영국파운드 1.2722\n",
      "달러인덱스 96.3200\n",
      "WTI 38.94\n",
      "휘발유 1307.71\n",
      "국제 금 1714.7\n",
      "국내 금 65943.45\n"
     ]
    }
   ],
   "source": [
    "for li in lis :\n",
    "    label = li.find(class_ = 'blind')\n",
    "    value = li.find(class_ = 'value')\n",
    "    print(label.get_text(), value.get_text())"
   ]
  },
  {
   "cell_type": "code",
   "execution_count": 52,
   "metadata": {},
   "outputs": [],
   "source": [
    "import pandas as pd"
   ]
  },
  {
   "cell_type": "code",
   "execution_count": 53,
   "metadata": {},
   "outputs": [
    {
     "name": "stdout",
     "output_type": "stream",
     "text": [
      "['미국 USD', '일본 JPY(100엔)', '유럽연합 EUR', '중국 CNY', '일본 엔/달러', '달러/유로', '달러/영국파운드', '달러인덱스', 'WTI', '휘발유', '국제 금', '국내 금']\n",
      "['1,193.30', '1,107.88', '1,353.38', '168.82', '107.7100', '1.1353', '1.2722', '96.3200', '38.94', '1307.71', '1714.7', '65943.45']\n"
     ]
    }
   ],
   "source": [
    "labels = []\n",
    "values = []\n",
    "for li in lis :\n",
    "    label = li.find(class_ = 'blind')\n",
    "    value = li.find(class_ = 'value')\n",
    "    labels.append(label.get_text())\n",
    "    values.append(value.get_text())\n",
    "    \n",
    "print(labels)\n",
    "print(values)"
   ]
  },
  {
   "cell_type": "code",
   "execution_count": 54,
   "metadata": {},
   "outputs": [],
   "source": [
    "eco_index = pd.DataFrame({'항목' : labels, '값' : values})"
   ]
  },
  {
   "cell_type": "code",
   "execution_count": 55,
   "metadata": {},
   "outputs": [
    {
     "data": {
      "text/html": [
       "<div>\n",
       "<style scoped>\n",
       "    .dataframe tbody tr th:only-of-type {\n",
       "        vertical-align: middle;\n",
       "    }\n",
       "\n",
       "    .dataframe tbody tr th {\n",
       "        vertical-align: top;\n",
       "    }\n",
       "\n",
       "    .dataframe thead th {\n",
       "        text-align: right;\n",
       "    }\n",
       "</style>\n",
       "<table border=\"1\" class=\"dataframe\">\n",
       "  <thead>\n",
       "    <tr style=\"text-align: right;\">\n",
       "      <th></th>\n",
       "      <th>항목</th>\n",
       "      <th>값</th>\n",
       "    </tr>\n",
       "  </thead>\n",
       "  <tbody>\n",
       "    <tr>\n",
       "      <th>0</th>\n",
       "      <td>미국 USD</td>\n",
       "      <td>1,193.30</td>\n",
       "    </tr>\n",
       "    <tr>\n",
       "      <th>1</th>\n",
       "      <td>일본 JPY(100엔)</td>\n",
       "      <td>1,107.88</td>\n",
       "    </tr>\n",
       "    <tr>\n",
       "      <th>2</th>\n",
       "      <td>유럽연합 EUR</td>\n",
       "      <td>1,353.38</td>\n",
       "    </tr>\n",
       "    <tr>\n",
       "      <th>3</th>\n",
       "      <td>중국 CNY</td>\n",
       "      <td>168.82</td>\n",
       "    </tr>\n",
       "    <tr>\n",
       "      <th>4</th>\n",
       "      <td>일본 엔/달러</td>\n",
       "      <td>107.7100</td>\n",
       "    </tr>\n",
       "    <tr>\n",
       "      <th>5</th>\n",
       "      <td>달러/유로</td>\n",
       "      <td>1.1353</td>\n",
       "    </tr>\n",
       "    <tr>\n",
       "      <th>6</th>\n",
       "      <td>달러/영국파운드</td>\n",
       "      <td>1.2722</td>\n",
       "    </tr>\n",
       "    <tr>\n",
       "      <th>7</th>\n",
       "      <td>달러인덱스</td>\n",
       "      <td>96.3200</td>\n",
       "    </tr>\n",
       "    <tr>\n",
       "      <th>8</th>\n",
       "      <td>WTI</td>\n",
       "      <td>38.94</td>\n",
       "    </tr>\n",
       "    <tr>\n",
       "      <th>9</th>\n",
       "      <td>휘발유</td>\n",
       "      <td>1307.71</td>\n",
       "    </tr>\n",
       "    <tr>\n",
       "      <th>10</th>\n",
       "      <td>국제 금</td>\n",
       "      <td>1714.7</td>\n",
       "    </tr>\n",
       "    <tr>\n",
       "      <th>11</th>\n",
       "      <td>국내 금</td>\n",
       "      <td>65943.45</td>\n",
       "    </tr>\n",
       "  </tbody>\n",
       "</table>\n",
       "</div>"
      ],
      "text/plain": [
       "              항목         값\n",
       "0         미국 USD  1,193.30\n",
       "1   일본 JPY(100엔)  1,107.88\n",
       "2       유럽연합 EUR  1,353.38\n",
       "3         중국 CNY    168.82\n",
       "4        일본 엔/달러  107.7100\n",
       "5          달러/유로    1.1353\n",
       "6       달러/영국파운드    1.2722\n",
       "7          달러인덱스   96.3200\n",
       "8            WTI     38.94\n",
       "9            휘발유   1307.71\n",
       "10          국제 금    1714.7\n",
       "11          국내 금  65943.45"
      ]
     },
     "execution_count": 55,
     "metadata": {},
     "output_type": "execute_result"
    }
   ],
   "source": [
    "eco_index"
   ]
  },
  {
   "cell_type": "code",
   "execution_count": null,
   "metadata": {},
   "outputs": [],
   "source": []
  }
 ],
 "metadata": {
  "kernelspec": {
   "display_name": "Python 3",
   "language": "python",
   "name": "python3"
  },
  "language_info": {
   "codemirror_mode": {
    "name": "ipython",
    "version": 3
   },
   "file_extension": ".py",
   "mimetype": "text/x-python",
   "name": "python",
   "nbconvert_exporter": "python",
   "pygments_lexer": "ipython3",
   "version": "3.7.6"
  }
 },
 "nbformat": 4,
 "nbformat_minor": 4
}
