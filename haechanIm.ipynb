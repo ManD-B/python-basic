{
 "cells": [
  {
   "cell_type": "markdown",
   "metadata": {},
   "source": [
    "# 2장 연습문제 -임해찬-"
   ]
  },
  {
   "cell_type": "code",
   "execution_count": 1,
   "metadata": {},
   "outputs": [],
   "source": [
    "# 1번 문제\n",
    "# 1 숫자 : 정수형과 실수형이 있으며 정수형은 -10, 0, 20 등과 같이 음수, 0, 양수로 이루어지며\n",
    "#         실수형은 -19.2, 10.0, 0.12 와 같이 소수점을 나타내는 데이터형이다.\n",
    "# 2 문자열 : 단어나 문장의 문자로 구성되며 맨 앞쪽과 뒤쪽에 쌍따옴표\"나 단따옴표'를 \n",
    "#           붙여 쓰는 데이터형이다."
   ]
  },
  {
   "cell_type": "code",
   "execution_count": 10,
   "metadata": {},
   "outputs": [
    {
     "name": "stdout",
     "output_type": "stream",
     "text": [
      "-72\n"
     ]
    }
   ],
   "source": [
    "# 2번 문제\n",
    "a = 7\n",
    "b = 10\n",
    "\n",
    "c = a + b * 2\n",
    "c %= 5\n",
    "c **= 3\n",
    "c -= c * 10\n",
    "\n",
    "print(c)"
   ]
  },
  {
   "cell_type": "code",
   "execution_count": 12,
   "metadata": {},
   "outputs": [
    {
     "name": "stdout",
     "output_type": "stream",
     "text": [
      "반지름을 입력하세요 : 10\n",
      "반지름 : 10 cm\n",
      "원의 둘레 : 62.80 cm\n",
      "원의 면적 : 314.00 cm2\n"
     ]
    }
   ],
   "source": [
    "# 3번 문제\n",
    "radius = int(input('반지름을 입력하세요 : '))\n",
    "print('반지름 : %d cm' % radius)\n",
    "\n",
    "cir = 2 * radius * 3.14\n",
    "print('원의 둘레 : %.2f cm' % cir)\n",
    "\n",
    "area = 3.14 * radius ** 2\n",
    "print('원의 면적 : %.2f cm2' % area)"
   ]
  },
  {
   "cell_type": "code",
   "execution_count": 13,
   "metadata": {},
   "outputs": [
    {
     "name": "stdout",
     "output_type": "stream",
     "text": [
      "책 값을 입력하세요 : 15000\n",
      "할인율을 입력하세요(%) : 15\n",
      "배송료를 입력하세요 : 3000\n",
      "결제 금액 : 15750원\n"
     ]
    }
   ],
   "source": [
    "# 4번 문제\n",
    "cost = int(input('책 값을 입력하세요 : '))\n",
    "discount = int(input('할인율을 입력하세요(%) : '))\n",
    "charge = int(input('배송료를 입력하세요 : '))\n",
    "\n",
    "pay = cost - (cost * discount / 100) + charge\n",
    "\n",
    "print('결제 금액 : %d원' % pay)"
   ]
  },
  {
   "cell_type": "code",
   "execution_count": 14,
   "metadata": {},
   "outputs": [
    {
     "name": "stdout",
     "output_type": "stream",
     "text": [
      "이름을 입력하세요 : 안지영\n",
      "현재년을 입력하세요 : 2020\n",
      "탄생년을 입력하세요 : 1997\n",
      "안지영님의 나이는 24세 입니다!\n"
     ]
    }
   ],
   "source": [
    "# 5번 문제\n",
    "name = input('이름을 입력하세요 : ')\n",
    "current = int(input('현재년을 입력하세요 : '))\n",
    "birth = int(input('탄생년을 입력하세요 : '))\n",
    "\n",
    "age = current - birth + 1\n",
    "\n",
    "print('%s님의 나이는 %d세 입니다!' % (name, age))"
   ]
  },
  {
   "cell_type": "code",
   "execution_count": 15,
   "metadata": {},
   "outputs": [
    {
     "name": "stdout",
     "output_type": "stream",
     "text": [
      "연을 입력하세요 : 2020\n",
      "월을 입력하세요 : 1\n",
      "일을 입력하세요 : 5\n",
      "2020-01-05\n"
     ]
    }
   ],
   "source": [
    "# 6번 문제\n",
    "year = int(input('연을 입력하세요 : '))\n",
    "month = int(input('월을 입력하세요 : '))\n",
    "day = int(input('일을 입력하세요 : '))\n",
    "\n",
    "print('%04d-%02d-%02d' % (year, month, day))"
   ]
  },
  {
   "cell_type": "markdown",
   "metadata": {},
   "source": [
    "# 3장 연습문제"
   ]
  },
  {
   "cell_type": "code",
   "execution_count": 11,
   "metadata": {},
   "outputs": [],
   "source": [
    "# 1번 문제\n",
    "# a    b    c      a!=2    not(b>=a)  c/2 > a*3\n",
    "# 2    5   -3      False     False      False\n",
    "# 3    7   -4      True      False      False\n",
    "# -10  10  -2      True      False      True"
   ]
  },
  {
   "cell_type": "code",
   "execution_count": 12,
   "metadata": {},
   "outputs": [],
   "source": [
    "# 2번 문제\n",
    "# a    b    c  a>2 or c>b and c>2       not(a>5 or b>c and c>=3)\n",
    "# -5   3    2        False                        True\n",
    "# 10   5    7        True                         False\n",
    "# -3   10   2        False                        True"
   ]
  },
  {
   "cell_type": "code",
   "execution_count": 13,
   "metadata": {},
   "outputs": [
    {
     "name": "stdout",
     "output_type": "stream",
     "text": [
      "4\n"
     ]
    }
   ],
   "source": [
    "# 3번 문제\n",
    "a = 2\n",
    "z = a * 5\n",
    "w = (z - 3) * (a - 2) / 7 + 10\n",
    "\n",
    "if a > z or w > a :\n",
    "    y = 2 * a\n",
    "else :\n",
    "    y = 4 * a\n",
    "\n",
    "print(y)"
   ]
  },
  {
   "cell_type": "code",
   "execution_count": 14,
   "metadata": {},
   "outputs": [
    {
     "name": "stdout",
     "output_type": "stream",
     "text": [
      "단위를 입력하세요(1 : 섭씨, 2 : 화씨) : 2\n",
      "온도를 입력하세요 : 80\n",
      "물의 섭씨 온도 : 26.67, 상태 : 액체\n"
     ]
    }
   ],
   "source": [
    "# 4번 문제\n",
    "unit = input('단위를 입력하세요(1 : 섭씨, 2 : 화씨) : ')\n",
    "temp = float(input('온도를 입력하세요 : '))\n",
    "\n",
    "if unit == '1':       # 섭씨를 입력 후 화씨값을 돌려받음\n",
    "    feh = (temp * 9 / 5) + 32\n",
    "    \n",
    "    if feh >= float('212'):\n",
    "        state = '기체'\n",
    "    elif feh > float('32'):\n",
    "        state = '액체'\n",
    "    else:\n",
    "        state = '고체'\n",
    "        \n",
    "    print('물의 화씨 온도 : %.2f, 상태 : %s' %(feh, state))\n",
    "else:                 # 화씨를 입력 후 섭씨값을 돌려받음\n",
    "    cel = (temp -32) * 5 / 9\n",
    "    \n",
    "    if cel >= float('100'):\n",
    "        state = '기체'\n",
    "    elif cel > float('0'):\n",
    "        state = '액체'\n",
    "    else:\n",
    "        state = '고체'\n",
    "        \n",
    "    print('물의 섭씨 온도 : %.2f, 상태 : %s' %(cel, state))"
   ]
  },
  {
   "cell_type": "code",
   "execution_count": 18,
   "metadata": {},
   "outputs": [
    {
     "name": "stdout",
     "output_type": "stream",
     "text": [
      "아이디를 입력하세요 : rabato\n",
      "회원 레벨을 입력해 주세요 : 3\n",
      "일부 콘텐츠 이용 가능\n"
     ]
    }
   ],
   "source": [
    "# 5번 문제\n",
    "id = input('아이디를 입력하세요 : ')\n",
    "\n",
    "if id == 'admin':\n",
    "    print('모든 컨텐츠 이용 가능')\n",
    "else:\n",
    "    level = int(input('회원 레벨을 입력해 주세요 : '))\n",
    "    \n",
    "    if level >= 2 and level <=7:\n",
    "        print('일부 콘텐츠 이용 가능')\n",
    "    else:\n",
    "        print('콘텐츠 이용 불가')"
   ]
  },
  {
   "cell_type": "code",
   "execution_count": 19,
   "metadata": {},
   "outputs": [
    {
     "name": "stdout",
     "output_type": "stream",
     "text": [
      "나이를 입력하세요 : 6\n",
      "입장료는 1000원 입니다.\n"
     ]
    }
   ],
   "source": [
    "# 6번 문제\n",
    "age = int(input('나이를 입력하세요 : '))\n",
    "\n",
    "if age <= 10:\n",
    "    cost = 1000\n",
    "elif age >=65:\n",
    "    cost = 0\n",
    "else:\n",
    "    cost = 2000\n",
    "    \n",
    "print('입장료는 %d원 입니다.' % cost)"
   ]
  },
  {
   "cell_type": "code",
   "execution_count": 21,
   "metadata": {},
   "outputs": [
    {
     "name": "stdout",
     "output_type": "stream",
     "text": [
      "영어시험 점수를 입력하세요 : 85\n",
      "수합시험 점수를 입력하세요 : 75\n",
      "재시험 기회제공\n"
     ]
    }
   ],
   "source": [
    "# 7번 문제\n",
    "eng = int(input('영어시험 점수를 입력하세요 : '))\n",
    "math = int(input('수합시험 점수를 입력하세요 : '))\n",
    "\n",
    "if eng >= 80 and math >= 80:\n",
    "    print('합격')\n",
    "elif eng < 80 and math < 80:\n",
    "    print('불합격')\n",
    "else:\n",
    "    print('재시험 기회제공')"
   ]
  },
  {
   "cell_type": "markdown",
   "metadata": {},
   "source": [
    "# 수고하셨습니다."
   ]
  }
 ],
 "metadata": {
  "kernelspec": {
   "display_name": "Python 3",
   "language": "python",
   "name": "python3"
  },
  "language_info": {
   "codemirror_mode": {
    "name": "ipython",
    "version": 3
   },
   "file_extension": ".py",
   "mimetype": "text/x-python",
   "name": "python",
   "nbconvert_exporter": "python",
   "pygments_lexer": "ipython3",
   "version": "3.7.6"
  }
 },
 "nbformat": 4,
 "nbformat_minor": 4
}
